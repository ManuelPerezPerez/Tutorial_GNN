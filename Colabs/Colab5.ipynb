{
  "cells": [
    {
      "cell_type": "markdown",
      "metadata": {
        "id": "XuXWJLEm2UWS"
      },
      "source": [
        "# **CS224W - Colab 5**"
      ]
    },
    {
      "cell_type": "markdown",
      "metadata": {
        "id": "8gzsP50bF6Gb"
      },
      "source": [
        "In this Colab we will experiment on scaling up GNNs using PyTorch Geometric, DeepSNAP and NetworkX. As we have **canceled** the Colab 5 assignment, this notebook will be a tutorial and you do not need to submit it on Gradescope.\n",
        "\n",
        "At first, we will use PyTorch Geometric `NeighborSampler` to scale up the training and testing on OGB `arxiv` dataset.\n",
        "\n",
        "Then, using the DeepSNAP and NetworkX, we will implement a simplified version of `NeighborSampler` and run experiments with different smapling ratios on the Cora graph.\n",
        "\n",
        "At last, we will partition the Cora graph into clusters by using different partition algorithms and then train the models in the way of vanilla Cluster-GCN.\n",
        "\n",
        "**Note**: Make sure to **sequentially run all the cells in each section**, so that the intermediate variables / packages will carry over to the next cell"
      ]
    },
    {
      "cell_type": "markdown",
      "metadata": {
        "id": "MSaetj53YnT6"
      },
      "source": [
        "# Device\n",
        "You might need to use GPU for this Colab.\n",
        "\n",
        "Please click `Runtime` and then `Change runtime type`. Then set the `hardware accelerator` to **GPU**."
      ]
    },
    {
      "cell_type": "markdown",
      "metadata": {
        "id": "67gOQITlCNQi"
      },
      "source": [
        "# Installation"
      ]
    },
    {
      "cell_type": "code",
      "execution_count": 2,
      "metadata": {
        "id": "J_m9l6OYCQZP",
        "colab": {
          "base_uri": "https://localhost:8080/"
        },
        "outputId": "f0746e2e-128f-4c69-a03f-e87e4f3c5e5a"
      },
      "outputs": [
        {
          "output_type": "stream",
          "name": "stdout",
          "text": [
            "\u001b[?25l     \u001b[90m━━━━━━━━━━━━━━━━━━━━━━━━━━━━━━━━━━━━━━━━\u001b[0m \u001b[32m0.0/108.0 kB\u001b[0m \u001b[31m?\u001b[0m eta \u001b[36m-:--:--\u001b[0m\r\u001b[2K     \u001b[91m━━━━━━━━━━━━━━━\u001b[0m\u001b[90m╺\u001b[0m\u001b[90m━━━━━━━━━━━━━━━━━━━━━━━━\u001b[0m \u001b[32m41.0/108.0 kB\u001b[0m \u001b[31m970.7 kB/s\u001b[0m eta \u001b[36m0:00:01\u001b[0m\r\u001b[2K     \u001b[90m━━━━━━━━━━━━━━━━━━━━━━━━━━━━━━━━━━━━━━━━\u001b[0m \u001b[32m108.0/108.0 kB\u001b[0m \u001b[31m1.5 MB/s\u001b[0m eta \u001b[36m0:00:00\u001b[0m\n",
            "\u001b[?25h  Preparing metadata (setup.py) ... \u001b[?25l\u001b[?25hdone\n",
            "  Building wheel for torch-scatter (setup.py) ... \u001b[?25l\u001b[?25hdone\n",
            "\u001b[2K     \u001b[90m━━━━━━━━━━━━━━━━━━━━━━━━━━━━━━━━━━━━━━━━\u001b[0m \u001b[32m210.0/210.0 kB\u001b[0m \u001b[31m4.8 MB/s\u001b[0m eta \u001b[36m0:00:00\u001b[0m\n",
            "\u001b[?25h  Preparing metadata (setup.py) ... \u001b[?25l\u001b[?25hdone\n",
            "  Building wheel for torch-sparse (setup.py) ... \u001b[?25l\u001b[?25hdone\n",
            "\u001b[2K     \u001b[90m━━━━━━━━━━━━━━━━━━━━━━━━━━━━━━━━━━━━━━━━\u001b[0m \u001b[32m1.0/1.0 MB\u001b[0m \u001b[31m12.9 MB/s\u001b[0m eta \u001b[36m0:00:00\u001b[0m\n",
            "\u001b[2K     \u001b[90m━━━━━━━━━━━━━━━━━━━━━━━━━━━━━━━━━━━━━━━━\u001b[0m \u001b[32m78.8/78.8 kB\u001b[0m \u001b[31m2.9 MB/s\u001b[0m eta \u001b[36m0:00:00\u001b[0m\n",
            "\u001b[?25h  Preparing metadata (setup.py) ... \u001b[?25l\u001b[?25hdone\n",
            "  Building wheel for littleutils (setup.py) ... \u001b[?25l\u001b[?25hdone\n",
            "  Preparing metadata (setup.py) ... \u001b[?25l\u001b[?25hdone\n",
            "  Building wheel for deepsnap (setup.py) ... \u001b[?25l\u001b[?25hdone\n"
          ]
        }
      ],
      "source": [
        "!pip install -q torch-scatter -f https://pytorch-geometric.com/whl/torch-1.8.0+cu101.html\n",
        "!pip install -q torch-sparse -f https://pytorch-geometric.com/whl/torch-1.8.0+cu101.html\n",
        "!pip install -q torch-geometric\n",
        "!pip install -q ogb\n",
        "!pip install -q git+https://github.com/snap-stanford/deepsnap.git"
      ]
    },
    {
      "cell_type": "code",
      "execution_count": 3,
      "metadata": {
        "id": "PRfgbfTjCRD_",
        "colab": {
          "base_uri": "https://localhost:8080/",
          "height": 35
        },
        "outputId": "dc47abf9-fc62-4a2c-e3c0-b45e4ca9c2c0"
      },
      "outputs": [
        {
          "output_type": "execute_result",
          "data": {
            "text/plain": [
              "'2.4.0'"
            ],
            "application/vnd.google.colaboratory.intrinsic+json": {
              "type": "string"
            }
          },
          "metadata": {},
          "execution_count": 3
        }
      ],
      "source": [
        "import torch_geometric\n",
        "torch_geometric.__version__"
      ]
    },
    {
      "cell_type": "markdown",
      "metadata": {
        "id": "SxkYLgxAOxz7"
      },
      "source": [
        "# 1 PyTorch Geometric Neighbor Sampling\n",
        "\n",
        "Neighbor Sampling, originally proposed in **GraphSAGE** ([Hamilton et al. (2017)](https://arxiv.org/abs/1706.02216)), is a representative method to scale up GNNs. As what we have learned in lecture, only a K-hop neighborhood nodes will be loaded into GPU for each time training. To further reduce the cost, we can sample a subset of neighborhood nodes for GNNs to aggregate."
      ]
    },
    {
      "cell_type": "markdown",
      "metadata": {
        "id": "Kho6SHUVO1ny"
      },
      "source": [
        "## Setup"
      ]
    },
    {
      "cell_type": "code",
      "execution_count": 4,
      "metadata": {
        "id": "X1WJLGKsOx_k"
      },
      "outputs": [],
      "source": [
        "import copy\n",
        "import torch\n",
        "import torch.nn.functional as F\n",
        "import torch_geometric.transforms as T\n",
        "\n",
        "from torch_geometric.nn import SAGEConv\n",
        "from torch_geometric.loader import NeighborSampler\n",
        "from ogb.nodeproppred import PygNodePropPredDataset, Evaluator"
      ]
    },
    {
      "cell_type": "markdown",
      "metadata": {
        "id": "UKqZWqRbO7km"
      },
      "source": [
        "## Neighbor Sampler\n",
        "\n",
        "PyTorch Geometric has implemented the Neighbor Sampling method as the [NeighborSampler](https://pytorch-geometric.readthedocs.io/en/latest/modules/data.html#torch_geometric.data.NeighborSampler) in `torch_geometric.data`. Following is an example that uses the Neighbor Sampling method on training the OGB `arxiv` dataset.\n",
        "\n",
        "If you are interested in memory-efficient aggregations, please refer to PyG's [Memory-Efficient Aggregations](https://pytorch-geometric.readthedocs.io/en/latest/notes/sparse_tensor.html)."
      ]
    },
    {
      "cell_type": "code",
      "execution_count": 5,
      "metadata": {
        "id": "nWlyStlRO6_u",
        "colab": {
          "base_uri": "https://localhost:8080/"
        },
        "outputId": "b005d86e-0e44-4b6b-bc19-7ececace2791"
      },
      "outputs": [
        {
          "output_type": "stream",
          "name": "stdout",
          "text": [
            "Downloading http://snap.stanford.edu/ogb/data/nodeproppred/arxiv.zip\n"
          ]
        },
        {
          "output_type": "stream",
          "name": "stderr",
          "text": [
            "Downloaded 0.08 GB: 100%|██████████| 81/81 [00:01<00:00, 61.37it/s]\n"
          ]
        },
        {
          "output_type": "stream",
          "name": "stdout",
          "text": [
            "Extracting dataset/arxiv.zip\n"
          ]
        },
        {
          "output_type": "stream",
          "name": "stderr",
          "text": [
            "Processing...\n"
          ]
        },
        {
          "output_type": "stream",
          "name": "stdout",
          "text": [
            "Loading necessary files...\n",
            "This might take a while.\n",
            "Processing graphs...\n"
          ]
        },
        {
          "output_type": "stream",
          "name": "stderr",
          "text": [
            "100%|██████████| 1/1 [00:00<00:00, 2065.14it/s]\n"
          ]
        },
        {
          "output_type": "stream",
          "name": "stdout",
          "text": [
            "Converting graphs into PyG objects...\n"
          ]
        },
        {
          "output_type": "stream",
          "name": "stderr",
          "text": [
            "100%|██████████| 1/1 [00:00<00:00, 442.90it/s]"
          ]
        },
        {
          "output_type": "stream",
          "name": "stdout",
          "text": [
            "Saving...\n"
          ]
        },
        {
          "output_type": "stream",
          "name": "stderr",
          "text": [
            "\n",
            "Done!\n"
          ]
        },
        {
          "output_type": "stream",
          "name": "stdout",
          "text": [
            "Device: cuda\n"
          ]
        }
      ],
      "source": [
        "dataset_name = 'ogbn-arxiv'\n",
        "dataset = PygNodePropPredDataset(name=dataset_name,\n",
        "                                 transform=T.ToSparseTensor())\n",
        "data = dataset[0]\n",
        "data.adj_t = data.adj_t.to_symmetric()\n",
        "device = 'cuda' if torch.cuda.is_available() else 'cpu'\n",
        "\n",
        "print('Device: {}'.format(device))\n",
        "\n",
        "data = data.to(device)\n",
        "split_idx = dataset.get_idx_split()\n",
        "train_idx = split_idx['train'].to(device)\n",
        "\n",
        "# Construct the training dataloader for training data\n",
        "# Sample 10 neighbors for each node in the first layer and 5 for the second layer\n",
        "train_loader = NeighborSampler(data.adj_t, node_idx=train_idx,\n",
        "                               sizes=[10, 5], batch_size=4096,\n",
        "                               shuffle=True, num_workers=2)\n",
        "\n",
        "# Specify size as -1 to include all neighbors\n",
        "all_loader = NeighborSampler(data.adj_t, node_idx=None, sizes=[-1],\n",
        "                                  batch_size=4096, shuffle=False,\n",
        "                                  num_workers=2)\n",
        "evaluator = Evaluator(name='ogbn-arxiv')"
      ]
    },
    {
      "cell_type": "markdown",
      "metadata": {
        "id": "VjdkIcFpRYyl"
      },
      "source": [
        "## GNN Model\n",
        "\n",
        "After creating the `NeighborSampler`, we also need to modify the model to let it support the mini-batch training.\n",
        "\n",
        "The `forward` function will take the node feature `x` and a list of three-element tuples `adjs`. Each element in `adjs` contains following elements:\n",
        "* `edge_index`: The edge index tensor between source and destination nodes, which forms a bipartite grpah.\n",
        "* `e_id`: The indices of the edges in the original graph.\n",
        "* `size`: The shape of the bipartite graph, in (*number of source nodes*, *number of destination nodes*) format."
      ]
    },
    {
      "cell_type": "code",
      "execution_count": 6,
      "metadata": {
        "id": "gRBJS_5qRWbu"
      },
      "outputs": [],
      "source": [
        "class SAGE(torch.nn.Module):\n",
        "    def __init__(self, input_dim, hidden_dim, output_dim, num_layers,\n",
        "                 dropout):\n",
        "        super(SAGE, self).__init__()\n",
        "\n",
        "        self.convs = torch.nn.ModuleList()\n",
        "        self.bns = torch.nn.ModuleList()\n",
        "\n",
        "        self.convs.append(SAGEConv(input_dim, hidden_dim))\n",
        "        self.bns.append(torch.nn.BatchNorm1d(hidden_dim))\n",
        "\n",
        "        for i in range(num_layers - 2):\n",
        "            self.convs.append(\n",
        "                SAGEConv(hidden_dim, hidden_dim))\n",
        "            self.bns.append(torch.nn.BatchNorm1d(hidden_dim))\n",
        "        self.convs.append(SAGEConv(hidden_dim, output_dim))\n",
        "\n",
        "        self.softmax = torch.nn.LogSoftmax(dim=1)\n",
        "\n",
        "        self.dropout = dropout\n",
        "\n",
        "        self.num_layers = num_layers\n",
        "\n",
        "    def reset_parameters(self):\n",
        "        for conv in self.convs:\n",
        "            conv.reset_parameters()\n",
        "        for bn in self.bns:\n",
        "            bn.reset_parameters()\n",
        "\n",
        "    def forward(self, x, adjs, mode=\"batch\"):\n",
        "        if mode == \"batch\":\n",
        "            for i, (edge_index, _, size) in enumerate(adjs):\n",
        "                # Extract target node features\n",
        "                x_target = x[:size[1]]\n",
        "\n",
        "                # Update x for next layer reuse\n",
        "                x = self.convs[i]((x, x_target), edge_index)\n",
        "                if i != self.num_layers - 1:\n",
        "                    x = self.bns[i](x)\n",
        "                    x = F.relu(x)\n",
        "                    x = F.dropout(x, p=self.dropout, training=self.training)\n",
        "        else:\n",
        "            for i, conv in enumerate(self.convs):\n",
        "                x = conv(x, adjs)\n",
        "                if i != self.num_layers - 1:\n",
        "                    x = self.bns[i](x)\n",
        "                    x = F.relu(x)\n",
        "                    x = F.dropout(x, p=self.dropout, training=self.training)\n",
        "        return self.softmax(x)\n",
        "\n",
        "    def inference(self, x_all, all_loader):\n",
        "        # This function will be called in test\n",
        "        for i in range(self.num_layers):\n",
        "            xs = []\n",
        "            for batch_size, n_id, adj in all_loader:\n",
        "                edge_index, _, size = adj.to(device)\n",
        "                x = x_all[n_id].to(device)\n",
        "                x_target = x[:size[1]]\n",
        "                x = self.convs[i]((x, x_target), edge_index)\n",
        "                if i != self.num_layers - 1:\n",
        "                    x = self.bns[i](x)\n",
        "                    x = F.relu(x)\n",
        "                    x = F.dropout(x, p=self.dropout, training=self.training)\n",
        "\n",
        "                # Append the node embeddings to xs\n",
        "                xs.append(x.cpu())\n",
        "\n",
        "            # Concat all embeddings into one tensor\n",
        "            x_all = torch.cat(xs, dim=0)\n",
        "\n",
        "        return x_all"
      ]
    },
    {
      "cell_type": "markdown",
      "metadata": {
        "id": "7cfm7K3wRqqY"
      },
      "source": [
        "## Training and Testing\n",
        "\n",
        "Now lets implement the training and testing functions.\n",
        "\n",
        "In both training and testing, we need to sample batch from the dataloader.\n",
        "\n",
        "Each batch in the `NeighborSampler` dataloader holds three elements:\n",
        "* `batch_size`: The batch size specified in the dataloader.\n",
        "* `n_id`: All nodes (in index format) used in the adjacency matrices.\n",
        "* `adjs`: The three-element tuples."
      ]
    },
    {
      "cell_type": "code",
      "execution_count": 7,
      "metadata": {
        "id": "-JN0-_QCRn8N"
      },
      "outputs": [],
      "source": [
        "def train(model, data, train_loader, train_idx, optimizer, loss_fn, mode=\"batch\"):\n",
        "    model.train()\n",
        "\n",
        "    total_loss = 0\n",
        "    if mode == \"batch\":\n",
        "        for batch_size, n_id, adjs in train_loader:\n",
        "            # Move all adj sparse tensors to GPU\n",
        "            adjs = [adj.to(device) for adj in adjs]\n",
        "            optimizer.zero_grad()\n",
        "\n",
        "            # Index on the node features\n",
        "            out = model(data.x[n_id], adjs)\n",
        "            train_label = data.y[n_id[:batch_size]].squeeze(-1)\n",
        "            loss = loss_fn(out, train_label)\n",
        "            loss.backward()\n",
        "            optimizer.step()\n",
        "            total_loss += loss.item()\n",
        "    else:\n",
        "        optimizer.zero_grad()\n",
        "        out = model(data.x, data.adj_t, mode=mode)[train_idx]\n",
        "        train_label = data.y.squeeze(1)[train_idx]\n",
        "        loss = loss_fn(out, train_label)\n",
        "        loss.backward()\n",
        "        optimizer.step()\n",
        "        total_loss = loss.item()\n",
        "\n",
        "    return total_loss\n",
        "\n",
        "@torch.no_grad()\n",
        "def test(model, data, all_loader, split_idx, evaluator, mode=\"batch\"):\n",
        "    model.eval()\n",
        "\n",
        "    if mode == \"batch\":\n",
        "        out = model.inference(data.x, all_loader)\n",
        "    else:\n",
        "        out = model(data.x, data.adj_t, mode=\"all\")\n",
        "\n",
        "    y_true = data.y.cpu()\n",
        "    y_pred = out.argmax(dim=-1, keepdim=True)\n",
        "\n",
        "    train_acc = evaluator.eval({\n",
        "        'y_true': y_true[split_idx['train']],\n",
        "        'y_pred': y_pred[split_idx['train']],\n",
        "    })['acc']\n",
        "    valid_acc = evaluator.eval({\n",
        "        'y_true': y_true[split_idx['valid']],\n",
        "        'y_pred': y_pred[split_idx['valid']],\n",
        "    })['acc']\n",
        "    test_acc = evaluator.eval({\n",
        "        'y_true': y_true[split_idx['test']],\n",
        "        'y_pred': y_pred[split_idx['test']],\n",
        "    })['acc']\n",
        "\n",
        "    return train_acc, valid_acc, test_acc"
      ]
    },
    {
      "cell_type": "markdown",
      "metadata": {
        "id": "AiehZ8OiR2q9"
      },
      "source": [
        "## Mini-batch Training"
      ]
    },
    {
      "cell_type": "code",
      "execution_count": 8,
      "metadata": {
        "id": "zFaI2eCARy0v",
        "colab": {
          "base_uri": "https://localhost:8080/"
        },
        "outputId": "64f950e7-b6a8-4849-8009-f056888b1526"
      },
      "outputs": [
        {
          "output_type": "stream",
          "name": "stdout",
          "text": [
            "Epoch: 01, Loss: 40.2487, Train: 62.58%, Valid: 63.45% Test: 62.96%\n",
            "Epoch: 02, Loss: 28.7209, Train: 67.29%, Valid: 66.89% Test: 65.29%\n",
            "Epoch: 03, Loss: 26.7292, Train: 68.38%, Valid: 67.12% Test: 65.13%\n",
            "Epoch: 04, Loss: 25.7492, Train: 69.82%, Valid: 68.12% Test: 66.49%\n",
            "Epoch: 05, Loss: 25.1560, Train: 70.29%, Valid: 68.73% Test: 68.35%\n",
            "Epoch: 06, Loss: 24.6402, Train: 70.89%, Valid: 69.65% Test: 68.98%\n",
            "Epoch: 07, Loss: 24.3962, Train: 71.49%, Valid: 69.34% Test: 67.65%\n",
            "Epoch: 08, Loss: 24.2594, Train: 71.48%, Valid: 69.67% Test: 68.96%\n",
            "Epoch: 09, Loss: 23.9037, Train: 71.67%, Valid: 69.66% Test: 68.32%\n",
            "Epoch: 10, Loss: 23.6444, Train: 72.03%, Valid: 69.90% Test: 69.73%\n",
            "Epoch: 11, Loss: 23.4188, Train: 72.23%, Valid: 69.12% Test: 67.07%\n",
            "Epoch: 12, Loss: 23.2280, Train: 72.51%, Valid: 70.20% Test: 69.92%\n",
            "Epoch: 13, Loss: 23.1671, Train: 72.70%, Valid: 69.79% Test: 67.94%\n",
            "Epoch: 14, Loss: 22.9121, Train: 73.23%, Valid: 69.58% Test: 67.61%\n",
            "Epoch: 15, Loss: 22.7093, Train: 72.78%, Valid: 70.22% Test: 69.47%\n",
            "Epoch: 16, Loss: 22.6819, Train: 73.44%, Valid: 70.53% Test: 68.96%\n",
            "Epoch: 17, Loss: 22.5495, Train: 73.60%, Valid: 70.16% Test: 68.58%\n",
            "Epoch: 18, Loss: 22.5266, Train: 73.74%, Valid: 70.46% Test: 69.42%\n",
            "Epoch: 19, Loss: 22.5035, Train: 73.64%, Valid: 70.51% Test: 70.37%\n",
            "Epoch: 20, Loss: 22.2643, Train: 73.91%, Valid: 70.33% Test: 69.32%\n",
            "Epoch: 21, Loss: 22.2178, Train: 74.15%, Valid: 69.51% Test: 67.47%\n",
            "Epoch: 22, Loss: 22.1828, Train: 74.24%, Valid: 70.32% Test: 69.03%\n",
            "Epoch: 23, Loss: 22.1704, Train: 74.30%, Valid: 70.14% Test: 68.71%\n",
            "Epoch: 24, Loss: 22.0115, Train: 74.43%, Valid: 70.70% Test: 69.62%\n",
            "Epoch: 25, Loss: 21.9603, Train: 74.46%, Valid: 69.73% Test: 67.80%\n",
            "Epoch: 26, Loss: 21.8593, Train: 74.59%, Valid: 70.54% Test: 68.95%\n",
            "Epoch: 27, Loss: 21.8289, Train: 74.50%, Valid: 70.38% Test: 69.36%\n",
            "Epoch: 28, Loss: 21.7912, Train: 74.79%, Valid: 70.31% Test: 69.00%\n",
            "Epoch: 29, Loss: 21.7496, Train: 74.87%, Valid: 70.86% Test: 69.82%\n",
            "Epoch: 30, Loss: 21.7064, Train: 75.01%, Valid: 70.67% Test: 69.42%\n",
            "Epoch: 31, Loss: 21.5567, Train: 74.85%, Valid: 70.68% Test: 69.80%\n",
            "Epoch: 32, Loss: 21.6504, Train: 74.66%, Valid: 70.04% Test: 68.52%\n",
            "Epoch: 33, Loss: 21.4207, Train: 75.16%, Valid: 70.35% Test: 68.90%\n",
            "Epoch: 34, Loss: 21.4794, Train: 75.24%, Valid: 70.84% Test: 69.68%\n",
            "Epoch: 35, Loss: 21.3764, Train: 75.19%, Valid: 70.85% Test: 69.75%\n",
            "Epoch: 36, Loss: 21.2309, Train: 75.37%, Valid: 70.34% Test: 68.62%\n",
            "Epoch: 37, Loss: 21.3828, Train: 75.55%, Valid: 70.57% Test: 68.87%\n",
            "Epoch: 38, Loss: 21.3289, Train: 75.46%, Valid: 70.83% Test: 69.89%\n",
            "Epoch: 39, Loss: 21.2772, Train: 75.56%, Valid: 70.58% Test: 69.65%\n",
            "Epoch: 40, Loss: 21.2877, Train: 75.55%, Valid: 70.81% Test: 69.32%\n",
            "Epoch: 41, Loss: 21.2403, Train: 75.56%, Valid: 71.02% Test: 69.83%\n",
            "Epoch: 42, Loss: 21.1602, Train: 75.68%, Valid: 70.61% Test: 68.87%\n",
            "Epoch: 43, Loss: 21.0647, Train: 75.73%, Valid: 70.70% Test: 69.97%\n",
            "Epoch: 44, Loss: 21.1391, Train: 75.91%, Valid: 70.73% Test: 69.42%\n",
            "Epoch: 45, Loss: 20.9733, Train: 75.82%, Valid: 70.27% Test: 68.59%\n",
            "Epoch: 46, Loss: 21.0249, Train: 75.70%, Valid: 70.62% Test: 69.12%\n",
            "Epoch: 47, Loss: 21.0578, Train: 76.09%, Valid: 70.72% Test: 69.25%\n",
            "Epoch: 48, Loss: 21.0168, Train: 75.74%, Valid: 70.40% Test: 69.27%\n",
            "Epoch: 49, Loss: 21.0036, Train: 75.88%, Valid: 70.46% Test: 69.49%\n",
            "Epoch: 50, Loss: 20.9324, Train: 76.08%, Valid: 70.88% Test: 69.49%\n",
            "Epoch: 51, Loss: 20.8528, Train: 76.20%, Valid: 70.53% Test: 69.24%\n",
            "Epoch: 52, Loss: 20.8981, Train: 75.81%, Valid: 71.02% Test: 70.19%\n",
            "Epoch: 53, Loss: 20.8588, Train: 76.26%, Valid: 70.57% Test: 69.58%\n",
            "Epoch: 54, Loss: 20.8133, Train: 75.94%, Valid: 71.01% Test: 70.39%\n",
            "Epoch: 55, Loss: 20.7635, Train: 76.18%, Valid: 70.69% Test: 68.86%\n",
            "Epoch: 56, Loss: 20.8833, Train: 76.21%, Valid: 70.39% Test: 68.87%\n",
            "Epoch: 57, Loss: 20.8249, Train: 76.22%, Valid: 70.85% Test: 69.85%\n",
            "Epoch: 58, Loss: 20.8090, Train: 76.34%, Valid: 70.92% Test: 69.91%\n",
            "Epoch: 59, Loss: 20.7781, Train: 76.08%, Valid: 70.65% Test: 69.16%\n",
            "Epoch: 60, Loss: 20.7798, Train: 76.07%, Valid: 69.74% Test: 67.62%\n",
            "Epoch: 61, Loss: 20.6337, Train: 76.48%, Valid: 70.95% Test: 70.13%\n",
            "Epoch: 62, Loss: 20.7145, Train: 76.46%, Valid: 70.80% Test: 69.82%\n",
            "Epoch: 63, Loss: 20.7430, Train: 76.34%, Valid: 70.76% Test: 70.11%\n",
            "Epoch: 64, Loss: 20.7791, Train: 76.50%, Valid: 70.51% Test: 69.05%\n",
            "Epoch: 65, Loss: 20.6238, Train: 76.25%, Valid: 70.71% Test: 69.68%\n",
            "Epoch: 66, Loss: 20.6082, Train: 76.57%, Valid: 70.78% Test: 69.49%\n",
            "Epoch: 67, Loss: 20.5426, Train: 76.55%, Valid: 70.60% Test: 69.25%\n",
            "Epoch: 68, Loss: 20.5122, Train: 76.54%, Valid: 70.91% Test: 69.70%\n",
            "Epoch: 69, Loss: 20.6180, Train: 76.31%, Valid: 70.54% Test: 69.12%\n",
            "Epoch: 70, Loss: 20.5087, Train: 76.67%, Valid: 70.79% Test: 69.92%\n",
            "Epoch: 71, Loss: 20.5338, Train: 76.59%, Valid: 70.15% Test: 68.56%\n",
            "Epoch: 72, Loss: 20.5258, Train: 76.50%, Valid: 70.95% Test: 70.48%\n",
            "Epoch: 73, Loss: 20.5203, Train: 76.37%, Valid: 70.54% Test: 69.50%\n",
            "Epoch: 74, Loss: 20.5650, Train: 76.47%, Valid: 70.42% Test: 69.25%\n",
            "Epoch: 75, Loss: 20.4722, Train: 76.71%, Valid: 70.78% Test: 69.31%\n",
            "Epoch: 76, Loss: 20.5391, Train: 76.67%, Valid: 70.57% Test: 69.39%\n",
            "Epoch: 77, Loss: 20.5877, Train: 76.55%, Valid: 70.38% Test: 68.60%\n",
            "Epoch: 78, Loss: 20.4765, Train: 76.73%, Valid: 70.62% Test: 69.13%\n",
            "Epoch: 79, Loss: 20.4792, Train: 76.86%, Valid: 70.78% Test: 69.48%\n",
            "Epoch: 80, Loss: 20.4926, Train: 77.07%, Valid: 70.87% Test: 69.83%\n",
            "Epoch: 81, Loss: 20.4173, Train: 77.05%, Valid: 70.66% Test: 69.75%\n",
            "Epoch: 82, Loss: 20.3650, Train: 76.83%, Valid: 70.87% Test: 69.89%\n",
            "Epoch: 83, Loss: 20.3498, Train: 77.05%, Valid: 69.73% Test: 68.07%\n",
            "Epoch: 84, Loss: 20.3650, Train: 77.02%, Valid: 70.94% Test: 70.18%\n",
            "Epoch: 85, Loss: 20.4036, Train: 76.90%, Valid: 70.90% Test: 69.90%\n",
            "Epoch: 86, Loss: 20.3643, Train: 76.97%, Valid: 70.56% Test: 68.87%\n",
            "Epoch: 87, Loss: 20.2919, Train: 77.12%, Valid: 70.68% Test: 69.23%\n",
            "Epoch: 88, Loss: 20.3535, Train: 76.99%, Valid: 70.16% Test: 68.82%\n",
            "Epoch: 89, Loss: 20.3046, Train: 77.04%, Valid: 70.69% Test: 69.42%\n",
            "Epoch: 90, Loss: 20.3854, Train: 77.22%, Valid: 70.78% Test: 69.96%\n",
            "Epoch: 91, Loss: 20.2553, Train: 76.94%, Valid: 70.29% Test: 68.89%\n",
            "Epoch: 92, Loss: 20.2354, Train: 77.08%, Valid: 70.19% Test: 68.52%\n",
            "Epoch: 93, Loss: 20.2943, Train: 77.11%, Valid: 70.91% Test: 70.23%\n",
            "Epoch: 94, Loss: 20.3331, Train: 77.09%, Valid: 70.47% Test: 68.77%\n",
            "Epoch: 95, Loss: 20.2082, Train: 77.24%, Valid: 70.76% Test: 69.79%\n",
            "Epoch: 96, Loss: 20.2075, Train: 77.30%, Valid: 70.84% Test: 69.64%\n",
            "Epoch: 97, Loss: 20.2661, Train: 77.19%, Valid: 70.56% Test: 68.88%\n",
            "Epoch: 98, Loss: 20.2270, Train: 77.11%, Valid: 70.89% Test: 69.74%\n",
            "Epoch: 99, Loss: 20.2160, Train: 77.28%, Valid: 70.79% Test: 69.34%\n",
            "Epoch: 100, Loss: 20.2445, Train: 77.21%, Valid: 70.98% Test: 69.73%\n",
            "Best model: Train: 75.56%, Valid: 71.02% Test: 69.83%\n"
          ]
        }
      ],
      "source": [
        "args = {\n",
        "    'device': device,\n",
        "    'num_layers': 2,\n",
        "    'hidden_dim': 128,\n",
        "    'dropout': 0.5,\n",
        "    'lr': 0.01,\n",
        "    'epochs': 100,\n",
        "}\n",
        "\n",
        "batch_model = SAGE(data.num_features, args['hidden_dim'],\n",
        "            dataset.num_classes, args['num_layers'],\n",
        "            args['dropout']).to(device)\n",
        "batch_model.reset_parameters()\n",
        "\n",
        "optimizer = torch.optim.Adam(batch_model.parameters(), lr=args['lr'])\n",
        "loss_fn = F.nll_loss\n",
        "\n",
        "best_batch_model = None\n",
        "best_valid_acc = 0\n",
        "\n",
        "batch_results = []\n",
        "\n",
        "for epoch in range(1, 1 + args[\"epochs\"]):\n",
        "    loss = train(batch_model, data, train_loader, train_idx, optimizer, loss_fn, mode=\"batch\")\n",
        "    result = test(batch_model, data, all_loader, split_idx, evaluator, mode=\"batch\")\n",
        "    batch_results.append(result)\n",
        "    train_acc, valid_acc, test_acc = result\n",
        "    if valid_acc > best_valid_acc:\n",
        "        best_valid_acc = valid_acc\n",
        "        best_batch_model = copy.deepcopy(batch_model)\n",
        "    print(f'Epoch: {epoch:02d}, '\n",
        "          f'Loss: {loss:.4f}, '\n",
        "          f'Train: {100 * train_acc:.2f}%, '\n",
        "          f'Valid: {100 * valid_acc:.2f}% '\n",
        "          f'Test: {100 * test_acc:.2f}%')\n",
        "best_result = test(best_batch_model, data, all_loader, split_idx, evaluator, mode=\"batch\")\n",
        "train_acc, valid_acc, test_acc = best_result\n",
        "print(f'Best model: '\n",
        "      f'Train: {100 * train_acc:.2f}%, '\n",
        "      f'Valid: {100 * valid_acc:.2f}% '\n",
        "      f'Test: {100 * test_acc:.2f}%')"
      ]
    },
    {
      "cell_type": "markdown",
      "metadata": {
        "id": "-OyqW-1pSMLW"
      },
      "source": [
        "## Full-batch Training"
      ]
    },
    {
      "cell_type": "code",
      "execution_count": 9,
      "metadata": {
        "id": "mU5eAviTSFMO",
        "colab": {
          "base_uri": "https://localhost:8080/"
        },
        "outputId": "b33e0aa4-6d25-4386-a2d0-fb1a89a6e1cb"
      },
      "outputs": [
        {
          "output_type": "stream",
          "name": "stdout",
          "text": [
            "Epoch: 01, Loss: 3.9508, Train: 31.90%, Valid: 32.38% Test: 28.68%\n",
            "Epoch: 02, Loss: 2.6446, Train: 32.70%, Valid: 35.71% Test: 33.43%\n",
            "Epoch: 03, Loss: 2.2261, Train: 31.48%, Valid: 36.03% Test: 39.56%\n",
            "Epoch: 04, Loss: 2.0396, Train: 28.70%, Valid: 28.67% Test: 33.49%\n",
            "Epoch: 05, Loss: 1.9142, Train: 32.25%, Valid: 34.14% Test: 38.75%\n",
            "Epoch: 06, Loss: 1.7997, Train: 38.93%, Valid: 44.73% Test: 48.33%\n",
            "Epoch: 07, Loss: 1.7030, Train: 44.67%, Valid: 50.99% Test: 53.49%\n",
            "Epoch: 08, Loss: 1.6343, Train: 49.01%, Valid: 54.21% Test: 55.48%\n",
            "Epoch: 09, Loss: 1.5874, Train: 51.91%, Valid: 56.41% Test: 57.33%\n",
            "Epoch: 10, Loss: 1.5460, Train: 53.84%, Valid: 57.90% Test: 58.95%\n",
            "Epoch: 11, Loss: 1.5060, Train: 55.00%, Valid: 58.80% Test: 59.92%\n",
            "Epoch: 12, Loss: 1.4716, Train: 55.55%, Valid: 58.76% Test: 60.18%\n",
            "Epoch: 13, Loss: 1.4402, Train: 56.05%, Valid: 58.61% Test: 60.24%\n",
            "Epoch: 14, Loss: 1.4095, Train: 56.78%, Valid: 58.84% Test: 60.56%\n",
            "Epoch: 15, Loss: 1.3922, Train: 57.82%, Valid: 59.74% Test: 61.27%\n",
            "Epoch: 16, Loss: 1.3736, Train: 58.95%, Valid: 60.92% Test: 61.97%\n",
            "Epoch: 17, Loss: 1.3548, Train: 60.09%, Valid: 62.02% Test: 62.53%\n",
            "Epoch: 18, Loss: 1.3336, Train: 61.02%, Valid: 62.77% Test: 62.94%\n",
            "Epoch: 19, Loss: 1.3190, Train: 61.89%, Valid: 63.48% Test: 63.24%\n",
            "Epoch: 20, Loss: 1.3021, Train: 62.64%, Valid: 63.90% Test: 63.56%\n",
            "Epoch: 21, Loss: 1.2911, Train: 63.25%, Valid: 64.41% Test: 63.96%\n",
            "Epoch: 22, Loss: 1.2749, Train: 63.81%, Valid: 64.85% Test: 64.42%\n",
            "Epoch: 23, Loss: 1.2656, Train: 64.29%, Valid: 65.13% Test: 64.78%\n",
            "Epoch: 24, Loss: 1.2613, Train: 64.67%, Valid: 65.44% Test: 65.14%\n",
            "Epoch: 25, Loss: 1.2477, Train: 65.03%, Valid: 65.61% Test: 65.33%\n",
            "Epoch: 26, Loss: 1.2416, Train: 65.34%, Valid: 65.89% Test: 65.34%\n",
            "Epoch: 27, Loss: 1.2303, Train: 65.51%, Valid: 66.09% Test: 65.21%\n",
            "Epoch: 28, Loss: 1.2208, Train: 65.61%, Valid: 66.11% Test: 65.04%\n",
            "Epoch: 29, Loss: 1.2111, Train: 65.67%, Valid: 66.05% Test: 64.88%\n",
            "Epoch: 30, Loss: 1.2045, Train: 65.79%, Valid: 66.09% Test: 64.80%\n",
            "Epoch: 31, Loss: 1.1960, Train: 65.98%, Valid: 66.22% Test: 64.90%\n",
            "Epoch: 32, Loss: 1.1906, Train: 66.34%, Valid: 66.51% Test: 65.25%\n",
            "Epoch: 33, Loss: 1.1793, Train: 66.69%, Valid: 66.78% Test: 65.64%\n",
            "Epoch: 34, Loss: 1.1764, Train: 66.99%, Valid: 67.12% Test: 66.00%\n",
            "Epoch: 35, Loss: 1.1701, Train: 67.23%, Valid: 67.39% Test: 66.37%\n",
            "Epoch: 36, Loss: 1.1664, Train: 67.47%, Valid: 67.57% Test: 66.59%\n",
            "Epoch: 37, Loss: 1.1587, Train: 67.56%, Valid: 67.70% Test: 66.82%\n",
            "Epoch: 38, Loss: 1.1502, Train: 67.70%, Valid: 67.80% Test: 66.92%\n",
            "Epoch: 39, Loss: 1.1465, Train: 67.78%, Valid: 67.96% Test: 67.04%\n",
            "Epoch: 40, Loss: 1.1409, Train: 67.88%, Valid: 68.12% Test: 67.23%\n",
            "Epoch: 41, Loss: 1.1360, Train: 68.00%, Valid: 68.30% Test: 67.37%\n",
            "Epoch: 42, Loss: 1.1324, Train: 68.18%, Valid: 68.38% Test: 67.51%\n",
            "Epoch: 43, Loss: 1.1282, Train: 68.30%, Valid: 68.48% Test: 67.70%\n",
            "Epoch: 44, Loss: 1.1247, Train: 68.45%, Valid: 68.52% Test: 67.86%\n",
            "Epoch: 45, Loss: 1.1182, Train: 68.51%, Valid: 68.58% Test: 68.01%\n",
            "Epoch: 46, Loss: 1.1143, Train: 68.67%, Valid: 68.67% Test: 68.02%\n",
            "Epoch: 47, Loss: 1.1099, Train: 68.79%, Valid: 68.70% Test: 68.07%\n",
            "Epoch: 48, Loss: 1.1078, Train: 68.89%, Valid: 68.70% Test: 67.94%\n",
            "Epoch: 49, Loss: 1.1037, Train: 69.02%, Valid: 68.78% Test: 68.05%\n",
            "Epoch: 50, Loss: 1.0985, Train: 69.14%, Valid: 68.81% Test: 68.19%\n",
            "Epoch: 51, Loss: 1.0962, Train: 69.25%, Valid: 68.90% Test: 68.26%\n",
            "Epoch: 52, Loss: 1.0949, Train: 69.37%, Valid: 68.95% Test: 68.16%\n",
            "Epoch: 53, Loss: 1.0875, Train: 69.43%, Valid: 68.93% Test: 68.00%\n",
            "Epoch: 54, Loss: 1.0870, Train: 69.51%, Valid: 68.90% Test: 67.85%\n",
            "Epoch: 55, Loss: 1.0825, Train: 69.60%, Valid: 68.95% Test: 67.81%\n",
            "Epoch: 56, Loss: 1.0808, Train: 69.67%, Valid: 68.99% Test: 67.77%\n",
            "Epoch: 57, Loss: 1.0770, Train: 69.76%, Valid: 69.08% Test: 67.82%\n",
            "Epoch: 58, Loss: 1.0722, Train: 69.86%, Valid: 69.15% Test: 67.93%\n",
            "Epoch: 59, Loss: 1.0714, Train: 69.92%, Valid: 69.21% Test: 67.96%\n",
            "Epoch: 60, Loss: 1.0703, Train: 70.03%, Valid: 69.27% Test: 67.83%\n",
            "Epoch: 61, Loss: 1.0669, Train: 70.10%, Valid: 69.22% Test: 67.78%\n",
            "Epoch: 62, Loss: 1.0625, Train: 70.14%, Valid: 69.20% Test: 67.56%\n",
            "Epoch: 63, Loss: 1.0591, Train: 70.18%, Valid: 69.10% Test: 67.38%\n",
            "Epoch: 64, Loss: 1.0587, Train: 70.20%, Valid: 69.03% Test: 67.26%\n",
            "Epoch: 65, Loss: 1.0564, Train: 70.23%, Valid: 69.01% Test: 67.24%\n",
            "Epoch: 66, Loss: 1.0532, Train: 70.29%, Valid: 69.00% Test: 67.27%\n",
            "Epoch: 67, Loss: 1.0507, Train: 70.34%, Valid: 69.07% Test: 67.47%\n",
            "Epoch: 68, Loss: 1.0494, Train: 70.42%, Valid: 69.21% Test: 67.59%\n",
            "Epoch: 69, Loss: 1.0462, Train: 70.49%, Valid: 69.31% Test: 67.75%\n",
            "Epoch: 70, Loss: 1.0448, Train: 70.60%, Valid: 69.44% Test: 67.81%\n",
            "Epoch: 71, Loss: 1.0431, Train: 70.69%, Valid: 69.41% Test: 67.74%\n",
            "Epoch: 72, Loss: 1.0415, Train: 70.76%, Valid: 69.50% Test: 67.89%\n",
            "Epoch: 73, Loss: 1.0388, Train: 70.82%, Valid: 69.57% Test: 67.98%\n",
            "Epoch: 74, Loss: 1.0355, Train: 70.93%, Valid: 69.64% Test: 68.25%\n",
            "Epoch: 75, Loss: 1.0319, Train: 70.94%, Valid: 69.77% Test: 68.39%\n",
            "Epoch: 76, Loss: 1.0306, Train: 70.93%, Valid: 69.81% Test: 68.40%\n",
            "Epoch: 77, Loss: 1.0308, Train: 70.95%, Valid: 69.71% Test: 68.31%\n",
            "Epoch: 78, Loss: 1.0307, Train: 70.97%, Valid: 69.60% Test: 68.14%\n",
            "Epoch: 79, Loss: 1.0285, Train: 71.01%, Valid: 69.49% Test: 67.98%\n",
            "Epoch: 80, Loss: 1.0256, Train: 71.04%, Valid: 69.49% Test: 67.90%\n",
            "Epoch: 81, Loss: 1.0217, Train: 71.10%, Valid: 69.50% Test: 67.90%\n",
            "Epoch: 82, Loss: 1.0208, Train: 71.19%, Valid: 69.61% Test: 68.02%\n",
            "Epoch: 83, Loss: 1.0210, Train: 71.24%, Valid: 69.68% Test: 68.22%\n",
            "Epoch: 84, Loss: 1.0185, Train: 71.30%, Valid: 69.68% Test: 68.39%\n",
            "Epoch: 85, Loss: 1.0148, Train: 71.32%, Valid: 69.55% Test: 68.35%\n",
            "Epoch: 86, Loss: 1.0125, Train: 71.39%, Valid: 69.59% Test: 68.18%\n",
            "Epoch: 87, Loss: 1.0117, Train: 71.44%, Valid: 69.59% Test: 68.09%\n",
            "Epoch: 88, Loss: 1.0112, Train: 71.57%, Valid: 69.64% Test: 68.11%\n",
            "Epoch: 89, Loss: 1.0060, Train: 71.62%, Valid: 69.74% Test: 68.45%\n",
            "Epoch: 90, Loss: 1.0040, Train: 71.65%, Valid: 69.74% Test: 68.69%\n",
            "Epoch: 91, Loss: 1.0046, Train: 71.69%, Valid: 69.76% Test: 68.73%\n",
            "Epoch: 92, Loss: 1.0021, Train: 71.70%, Valid: 69.63% Test: 68.54%\n",
            "Epoch: 93, Loss: 0.9982, Train: 71.72%, Valid: 69.65% Test: 68.31%\n",
            "Epoch: 94, Loss: 1.0010, Train: 71.74%, Valid: 69.66% Test: 68.22%\n",
            "Epoch: 95, Loss: 0.9999, Train: 71.76%, Valid: 69.79% Test: 68.43%\n",
            "Epoch: 96, Loss: 0.9971, Train: 71.91%, Valid: 70.00% Test: 68.76%\n",
            "Epoch: 97, Loss: 0.9963, Train: 71.96%, Valid: 70.12% Test: 68.99%\n",
            "Epoch: 98, Loss: 0.9965, Train: 71.97%, Valid: 70.12% Test: 69.00%\n",
            "Epoch: 99, Loss: 0.9943, Train: 71.98%, Valid: 70.10% Test: 68.88%\n",
            "Epoch: 100, Loss: 0.9913, Train: 72.05%, Valid: 70.01% Test: 68.78%\n",
            "Best model: Train: 71.96%, Valid: 70.12% Test: 68.99%\n"
          ]
        }
      ],
      "source": [
        "# Use the same parameters for a full-batch training\n",
        "args = {\n",
        "    'device': device,\n",
        "    'num_layers': 2,\n",
        "    'hidden_dim': 128,\n",
        "    'dropout': 0.5,\n",
        "    'lr': 0.01,\n",
        "    'epochs': 100,\n",
        "}\n",
        "\n",
        "all_model = SAGE(data.num_features, args['hidden_dim'],\n",
        "            dataset.num_classes, args['num_layers'],\n",
        "            args['dropout']).to(device)\n",
        "all_model.reset_parameters()\n",
        "\n",
        "optimizer = torch.optim.Adam(all_model.parameters(), lr=args['lr'])\n",
        "loss_fn = F.nll_loss\n",
        "\n",
        "best_all_model = None\n",
        "best_valid_acc = 0\n",
        "\n",
        "all_results = []\n",
        "\n",
        "for epoch in range(1, 1 + args[\"epochs\"]):\n",
        "    loss = train(all_model, data, train_loader, train_idx, optimizer, loss_fn, mode=\"all\")\n",
        "    result = test(all_model, data, all_loader, split_idx, evaluator, mode=\"all\")\n",
        "    all_results.append(result)\n",
        "    train_acc, valid_acc, test_acc = result\n",
        "    if valid_acc > best_valid_acc:\n",
        "        best_valid_acc = valid_acc\n",
        "        best_all_model = copy.deepcopy(all_model)\n",
        "    print(f'Epoch: {epoch:02d}, '\n",
        "          f'Loss: {loss:.4f}, '\n",
        "          f'Train: {100 * train_acc:.2f}%, '\n",
        "          f'Valid: {100 * valid_acc:.2f}% '\n",
        "          f'Test: {100 * test_acc:.2f}%')\n",
        "best_result = test(best_all_model, data, all_loader, split_idx, evaluator, mode=\"all\")\n",
        "train_acc, valid_acc, test_acc = best_result\n",
        "print(f'Best model: '\n",
        "      f'Train: {100 * train_acc:.2f}%, '\n",
        "      f'Valid: {100 * valid_acc:.2f}% '\n",
        "      f'Test: {100 * test_acc:.2f}%')"
      ]
    },
    {
      "cell_type": "markdown",
      "metadata": {
        "id": "NrECcOQQSZo1"
      },
      "source": [
        "## Visualization"
      ]
    },
    {
      "cell_type": "code",
      "execution_count": 10,
      "metadata": {
        "id": "sh_qvSG1SV63",
        "colab": {
          "base_uri": "https://localhost:8080/",
          "height": 641
        },
        "outputId": "09ac7d02-a5e3-487f-ddf6-92b3c6f49fe3"
      },
      "outputs": [
        {
          "output_type": "display_data",
          "data": {
            "text/plain": [
              "<Figure size 900x700 with 1 Axes>"
            ],
            "image/png": "[encoded data removed]"
          },
          "metadata": {}
        }
      ],
      "source": [
        "import numpy as np\n",
        "from matplotlib import pyplot as plt\n",
        "\n",
        "batch_results = np.array(batch_results)\n",
        "all_results = np.array(all_results)\n",
        "\n",
        "x = np.arange(1, 101)\n",
        "\n",
        "plt.figure(figsize=(9, 7))\n",
        "\n",
        "plt.plot(x, batch_results[:, 1], label=\"Batch Validation\")\n",
        "plt.plot(x, batch_results[:, 2], label=\"Batch Test\")\n",
        "plt.plot(x, all_results[:, 1], label=\"All Validation\")\n",
        "plt.plot(x, all_results[:, 2], label=\"All Test\")\n",
        "plt.title('Model Accuracy')\n",
        "plt.ylabel('Accuracy')\n",
        "plt.xlabel('Epoch')\n",
        "plt.legend()\n",
        "plt.show()"
      ]
    },
    {
      "cell_type": "markdown",
      "metadata": {
        "id": "WFb2OAvOSn_O"
      },
      "source": [
        "# 2 Neighbor Sampling with Different Ratios\n",
        "\n",
        "Now we will implement a simplified version of Neighbor Sampling by using DeepSNAP and NetworkX, and train models with different neighborhood sampling ratios.\n",
        "\n",
        "To make the experiments faster, we will use the Cora graph here."
      ]
    },
    {
      "cell_type": "markdown",
      "metadata": {
        "id": "P9U0F7bnSz9u"
      },
      "source": [
        "## Setup"
      ]
    },
    {
      "cell_type": "code",
      "execution_count": 11,
      "metadata": {
        "id": "PUF4on-fSxcq",
        "colab": {
          "base_uri": "https://localhost:8080/"
        },
        "outputId": "65fab1e7-5865-4d03-e362-5c29d5158d81"
      },
      "outputs": [
        {
          "output_type": "stream",
          "name": "stderr",
          "text": [
            "Downloading https://github.com/kimiyoung/planetoid/raw/master/data/ind.cora.x\n",
            "Downloading https://github.com/kimiyoung/planetoid/raw/master/data/ind.cora.tx\n",
            "Downloading https://github.com/kimiyoung/planetoid/raw/master/data/ind.cora.allx\n",
            "Downloading https://github.com/kimiyoung/planetoid/raw/master/data/ind.cora.y\n",
            "Downloading https://github.com/kimiyoung/planetoid/raw/master/data/ind.cora.ty\n",
            "Downloading https://github.com/kimiyoung/planetoid/raw/master/data/ind.cora.ally\n",
            "Downloading https://github.com/kimiyoung/planetoid/raw/master/data/ind.cora.graph\n",
            "Downloading https://github.com/kimiyoung/planetoid/raw/master/data/ind.cora.test.index\n",
            "Processing...\n",
            "Done!\n"
          ]
        }
      ],
      "source": [
        "import copy\n",
        "import torch\n",
        "import random\n",
        "import numpy as np\n",
        "import networkx as nx\n",
        "import torch.nn as nn\n",
        "import torch.nn.functional as F\n",
        "\n",
        "from torch_geometric.nn import SAGEConv\n",
        "from torch.utils.data import DataLoader\n",
        "from torch_geometric.datasets import Planetoid\n",
        "from torch.nn import Sequential, Linear, ReLU\n",
        "from deepsnap.dataset import GraphDataset\n",
        "from deepsnap.graph import Graph\n",
        "\n",
        "pyg_dataset = Planetoid('./tmp', \"Cora\")"
      ]
    },
    {
      "cell_type": "markdown",
      "metadata": {
        "id": "qw6k-KdFTEYw"
      },
      "source": [
        "## GNN Model"
      ]
    },
    {
      "cell_type": "code",
      "execution_count": 12,
      "metadata": {
        "id": "PvUlNi2TS09i"
      },
      "outputs": [],
      "source": [
        "class GNN(torch.nn.Module):\n",
        "    def __init__(self, input_dim, hidden_dim, output_dim, args):\n",
        "        super(GNN, self).__init__()\n",
        "        self.dropout = args['dropout']\n",
        "        self.num_layers = args['num_layers']\n",
        "\n",
        "        self.convs = nn.ModuleList()\n",
        "        self.bns = nn.ModuleList()\n",
        "\n",
        "        self.convs.append(SAGEConv(input_dim, hidden_dim))\n",
        "        self.bns.append(nn.BatchNorm1d(hidden_dim))\n",
        "\n",
        "        for l in range(self.num_layers - 2):\n",
        "            self.convs.append(SAGEConv(hidden_dim, hidden_dim))\n",
        "            self.bns.append(nn.BatchNorm1d(hidden_dim))\n",
        "        self.convs.append(SAGEConv(hidden_dim, hidden_dim))\n",
        "\n",
        "        self.post_mp = nn.Linear(hidden_dim, output_dim)\n",
        "\n",
        "    def forward(self, data, mode=\"batch\"):\n",
        "        if mode == \"batch\":\n",
        "            edge_indices, x = data\n",
        "            for i in range(len(self.convs) - 1):\n",
        "                edge_index = edge_indices[i]\n",
        "                x = self.convs[i](x, edge_index)\n",
        "                x = self.bns[i](x)\n",
        "                x = F.relu(x)\n",
        "                x = F.dropout(x, p=self.dropout, training=self.training)\n",
        "            x = self.convs[-1](x, edge_indices[len(self.convs) - 1])\n",
        "        else:\n",
        "            x, edge_index = data.node_feature, data.edge_index\n",
        "            for i in range(len(self.convs) - 1):\n",
        "                x = self.convs[i](x, edge_index)\n",
        "                x = self.bns[i](x)\n",
        "                x = F.relu(x)\n",
        "                x = F.dropout(x, p=self.dropout, training=self.training)\n",
        "            x = self.convs[-1](x, edge_index)\n",
        "        x = self.post_mp(x)\n",
        "        x = F.log_softmax(x, dim=1)\n",
        "        return x"
      ]
    },
    {
      "cell_type": "markdown",
      "metadata": {
        "id": "Ulp1A3evcJ-I"
      },
      "source": [
        "## Neighbor Sampling\n",
        "\n",
        "Here we implement functions that will sample neighbors by using DeepSNAP and NetworkX.\n",
        "\n",
        "Notice that node classification task on Cora is a semi-supervised classification task, here we keep all the labeled training nodes (140 nodes) by setting the last ratio to 1."
      ]
    },
    {
      "cell_type": "code",
      "execution_count": 13,
      "metadata": {
        "id": "LI4qHkE4cQOh"
      },
      "outputs": [],
      "source": [
        "def sample_neighbors(nodes, G, ratio, all_nodes):\n",
        "    # This fuction takes a set of nodes, a NetworkX graph G and neighbor sampling ratio.\n",
        "    # It will return sampled neighbors (unioned with input nodes) and edges between\n",
        "    neighbors = set()\n",
        "    edges = []\n",
        "    for node in nodes:\n",
        "        neighbors_list = list(nx.neighbors(G, node))\n",
        "\n",
        "        # We only sample the (ratio * number of neighbors) neighbors\n",
        "        num = int(len(neighbors_list) * ratio)\n",
        "        if num > 0:\n",
        "            # Random shuffle the neighbors\n",
        "            random.shuffle(neighbors_list)\n",
        "            neighbors_list = neighbors_list[:num]\n",
        "            for neighbor in neighbors_list:\n",
        "                # Add neighbors\n",
        "                neighbors.add(neighbor)\n",
        "                edges.append((neighbor, node))\n",
        "    return neighbors, neighbors.union(all_nodes), edges\n",
        "\n",
        "def nodes_to_tensor(nodes):\n",
        "    # This function transform a set of nodes to node index tensor\n",
        "    node_label_index = torch.tensor(list(nodes), dtype=torch.long)\n",
        "    return node_label_index\n",
        "\n",
        "def edges_to_tensor(edges):\n",
        "    # This function transform a set of edges to edge index tensor\n",
        "    edge_index = torch.tensor(list(edges), dtype=torch.long)\n",
        "    edge_index = torch.cat([edge_index, torch.flip(edge_index, [1])], dim=0)\n",
        "    edge_index = edge_index.permute(1, 0)\n",
        "    return edge_index\n",
        "\n",
        "def relable(nodes, labeled_nodes, edges_list):\n",
        "    # Relable the nodes, labeled_nodes and edges_list\n",
        "    relabled_edges_list = []\n",
        "    sorted_nodes = sorted(nodes)\n",
        "    node_mapping = {node : i for i, node in enumerate(sorted_nodes)}\n",
        "    for orig_edges in edges_list:\n",
        "        relabeled_edges = []\n",
        "        for edge in orig_edges:\n",
        "            relabeled_edges.append((node_mapping[edge[0]], node_mapping[edge[1]]))\n",
        "        relabled_edges_list.append(relabeled_edges)\n",
        "    relabeled_labeled_nodes = [node_mapping[node] for node in labeled_nodes]\n",
        "    relabeled_nodes = [node_mapping[node] for node in nodes]\n",
        "    return relabled_edges_list, relabeled_nodes, relabeled_labeled_nodes\n",
        "\n",
        "def neighbor_sampling(graph, K=2, ratios=(0.1, 0.1, 0.1)):\n",
        "    # This function takes a DeepSNAP graph, K the number of GNN layers, and neighbor\n",
        "    # sampling ratios for each layer. This function returns relabeled node feature,\n",
        "    # edge indices and node_label_index\n",
        "\n",
        "    assert K + 1 == len(ratios)\n",
        "\n",
        "    labeled_nodes = graph.node_label_index.tolist()\n",
        "    random.shuffle(labeled_nodes)\n",
        "    num = int(len(labeled_nodes) * ratios[-1])\n",
        "    if num > 0:\n",
        "        labeled_nodes = labeled_nodes[:num]\n",
        "    nodes_list = [set(labeled_nodes)]\n",
        "    edges_list = []\n",
        "    all_nodes = labeled_nodes\n",
        "    for k in range(K):\n",
        "        # Get nodes and edges from the previous layer\n",
        "        nodes, all_nodes, edges = \\\n",
        "            sample_neighbors(nodes_list[-1], graph.G, ratios[len(ratios) - k - 2], all_nodes)\n",
        "        nodes_list.append(nodes)\n",
        "        edges_list.append(edges)\n",
        "\n",
        "    # Reverse the lists\n",
        "    nodes_list.reverse()\n",
        "    edges_list.reverse()\n",
        "\n",
        "    relabled_edges_list, relabeled_all_nodes, relabeled_labeled_nodes = \\\n",
        "        relable(all_nodes, labeled_nodes, edges_list)\n",
        "\n",
        "    node_index = nodes_to_tensor(relabeled_all_nodes)\n",
        "    # All node features that will be used\n",
        "    node_feature = graph.node_feature[node_index]\n",
        "    edge_indices = [edges_to_tensor(edges) for edges in relabled_edges_list]\n",
        "    node_label_index = nodes_to_tensor(relabeled_labeled_nodes)\n",
        "    log = \"Sampled {} nodes, {} edges, {} labeled nodes\"\n",
        "    print(log.format(node_feature.shape[0], edge_indices[0].shape[1] // 2, node_label_index.shape[0]))\n",
        "    return node_feature, edge_indices, node_label_index"
      ]
    },
    {
      "cell_type": "markdown",
      "metadata": {
        "id": "ooy6Hcf7TIhI"
      },
      "source": [
        "## Training and Testing"
      ]
    },
    {
      "cell_type": "code",
      "execution_count": 14,
      "metadata": {
        "id": "iSmZhpzPTGPY"
      },
      "outputs": [],
      "source": [
        "def train(train_graphs, val_graphs, args, model, optimizer, mode=\"batch\"):\n",
        "    best_val = 0\n",
        "    best_model = None\n",
        "    accs = []\n",
        "    graph_train = train_graphs[0]\n",
        "    graph_train.to(args['device'])\n",
        "    for epoch in range(1, 1 + args['epochs']):\n",
        "        model.train()\n",
        "        optimizer.zero_grad()\n",
        "        if mode == \"batch\":\n",
        "            node_feature, edge_indices, node_label_index = neighbor_sampling(graph_train, args['num_layers'], args['ratios'])\n",
        "            node_feature = node_feature.to(args['device'])\n",
        "            node_label_index = node_label_index.to(args['device'])\n",
        "            for i in range(len(edge_indices)):\n",
        "                edge_indices[i] = edge_indices[i].to(args['device'])\n",
        "            pred = model([edge_indices, node_feature])\n",
        "            pred = pred[node_label_index]\n",
        "            label = graph_train.node_label[node_label_index]\n",
        "        elif mode == \"community\":\n",
        "            graph = random.choice(train_graphs)\n",
        "            graph = graph.to(args['device'])\n",
        "            pred = model(graph, mode=\"all\")\n",
        "            pred = pred[graph.node_label_index]\n",
        "            label = graph.node_label[graph.node_label_index]\n",
        "        else:\n",
        "            pred = model(graph_train, mode=\"all\")\n",
        "            label = graph_train.node_label\n",
        "            pred = pred[graph_train.node_label_index]\n",
        "        loss = F.nll_loss(pred, label)\n",
        "        loss.backward()\n",
        "        optimizer.step()\n",
        "\n",
        "        train_acc, val_acc, test_acc = test(val_graphs, model)\n",
        "        accs.append((train_acc, val_acc, test_acc))\n",
        "        if val_acc > best_val:\n",
        "            best_val = val_acc\n",
        "            best_model = copy.deepcopy(model)\n",
        "        print(f'Epoch: {epoch:02d}, '\n",
        "              f'Loss: {loss:.4f}, '\n",
        "              f'Train: {100 * train_acc:.2f}%, '\n",
        "              f'Valid: {100 * val_acc:.2f}% '\n",
        "              f'Test: {100 * test_acc:.2f}%')\n",
        "    return best_model, accs\n",
        "\n",
        "def test(graphs, model):\n",
        "    model.eval()\n",
        "    accs = []\n",
        "    for graph in graphs:\n",
        "        graph = graph.to(args['device'])\n",
        "        pred = model(graph, mode=\"all\")\n",
        "        label = graph.node_label\n",
        "        pred = pred[graph.node_label_index].max(1)[1]\n",
        "        acc = pred.eq(label).sum().item()\n",
        "        acc /= len(label)\n",
        "        accs.append(acc)\n",
        "    return accs"
      ]
    },
    {
      "cell_type": "code",
      "execution_count": 15,
      "metadata": {
        "id": "HV7i0v0ETKzf"
      },
      "outputs": [],
      "source": [
        "args = {\n",
        "    'device': torch.device('cuda' if torch.cuda.is_available() else 'cpu'),\n",
        "    'dropout': 0.5,\n",
        "    'num_layers': 2,\n",
        "    'hidden_size': 64,\n",
        "    'lr': 0.005,\n",
        "    'epochs': 50,\n",
        "    'ratios': (0.8, 0.8, 1),\n",
        "}"
      ]
    },
    {
      "cell_type": "markdown",
      "metadata": {
        "id": "rLpRYKbnTQnj"
      },
      "source": [
        "## Full-Batch Training"
      ]
    },
    {
      "cell_type": "code",
      "execution_count": 16,
      "metadata": {
        "id": "pMGGjbJBTOo1",
        "colab": {
          "base_uri": "https://localhost:8080/"
        },
        "outputId": "40b6f8f1-4a61-4d81-d5e7-5bdc9464abe1"
      },
      "outputs": [
        {
          "output_type": "stream",
          "name": "stdout",
          "text": [
            "Index fields: val_mask ignored.\n",
            "Index fields: train_mask ignored.\n",
            "Index fields: test_mask ignored.\n",
            "Epoch: 01, Loss: 2.0254, Train: 42.14%, Valid: 23.60% Test: 23.60%\n",
            "Epoch: 02, Loss: 1.1396, Train: 79.29%, Valid: 36.60% Test: 37.30%\n",
            "Epoch: 03, Loss: 0.5989, Train: 96.43%, Valid: 53.00% Test: 52.10%\n",
            "Epoch: 04, Loss: 0.3280, Train: 97.86%, Valid: 58.40% Test: 59.70%\n",
            "Epoch: 05, Loss: 0.1561, Train: 100.00%, Valid: 62.80% Test: 62.90%\n",
            "Epoch: 06, Loss: 0.0782, Train: 100.00%, Valid: 65.20% Test: 65.70%\n",
            "Epoch: 07, Loss: 0.0311, Train: 100.00%, Valid: 66.80% Test: 67.90%\n",
            "Epoch: 08, Loss: 0.0260, Train: 100.00%, Valid: 68.40% Test: 69.20%\n",
            "Epoch: 09, Loss: 0.0097, Train: 100.00%, Valid: 70.00% Test: 71.20%\n",
            "Epoch: 10, Loss: 0.0077, Train: 100.00%, Valid: 70.40% Test: 72.20%\n",
            "Epoch: 11, Loss: 0.0041, Train: 100.00%, Valid: 71.20% Test: 72.50%\n",
            "Epoch: 12, Loss: 0.0050, Train: 100.00%, Valid: 71.60% Test: 72.60%\n",
            "Epoch: 13, Loss: 0.0031, Train: 100.00%, Valid: 71.80% Test: 73.10%\n",
            "Epoch: 14, Loss: 0.0089, Train: 100.00%, Valid: 72.00% Test: 73.60%\n",
            "Epoch: 15, Loss: 0.0014, Train: 100.00%, Valid: 72.00% Test: 74.50%\n",
            "Epoch: 16, Loss: 0.0014, Train: 100.00%, Valid: 72.60% Test: 75.00%\n",
            "Epoch: 17, Loss: 0.0026, Train: 100.00%, Valid: 73.40% Test: 75.50%\n",
            "Epoch: 18, Loss: 0.0004, Train: 100.00%, Valid: 73.20% Test: 75.00%\n",
            "Epoch: 19, Loss: 0.0012, Train: 100.00%, Valid: 73.40% Test: 75.10%\n",
            "Epoch: 20, Loss: 0.0004, Train: 100.00%, Valid: 73.20% Test: 75.30%\n",
            "Epoch: 21, Loss: 0.0002, Train: 100.00%, Valid: 73.20% Test: 75.30%\n",
            "Epoch: 22, Loss: 0.0002, Train: 100.00%, Valid: 73.20% Test: 75.40%\n",
            "Epoch: 23, Loss: 0.0002, Train: 100.00%, Valid: 73.20% Test: 75.40%\n",
            "Epoch: 24, Loss: 0.0016, Train: 100.00%, Valid: 73.80% Test: 75.60%\n",
            "Epoch: 25, Loss: 0.0003, Train: 100.00%, Valid: 73.80% Test: 75.30%\n",
            "Epoch: 26, Loss: 0.0006, Train: 100.00%, Valid: 74.00% Test: 75.20%\n",
            "Epoch: 27, Loss: 0.0001, Train: 100.00%, Valid: 73.80% Test: 75.00%\n",
            "Epoch: 28, Loss: 0.0001, Train: 100.00%, Valid: 73.60% Test: 74.90%\n",
            "Epoch: 29, Loss: 0.0001, Train: 100.00%, Valid: 73.60% Test: 74.70%\n",
            "Epoch: 30, Loss: 0.0009, Train: 100.00%, Valid: 73.40% Test: 74.80%\n",
            "Epoch: 31, Loss: 0.0007, Train: 100.00%, Valid: 73.80% Test: 74.70%\n",
            "Epoch: 32, Loss: 0.0003, Train: 100.00%, Valid: 73.60% Test: 74.70%\n",
            "Epoch: 33, Loss: 0.0012, Train: 100.00%, Valid: 73.40% Test: 74.80%\n",
            "Epoch: 34, Loss: 0.0003, Train: 100.00%, Valid: 73.40% Test: 75.10%\n",
            "Epoch: 35, Loss: 0.0001, Train: 100.00%, Valid: 73.60% Test: 75.10%\n",
            "Epoch: 36, Loss: 0.0002, Train: 100.00%, Valid: 73.60% Test: 74.90%\n",
            "Epoch: 37, Loss: 0.0000, Train: 100.00%, Valid: 73.60% Test: 74.90%\n",
            "Epoch: 38, Loss: 0.0000, Train: 100.00%, Valid: 73.60% Test: 75.00%\n",
            "Epoch: 39, Loss: 0.0002, Train: 100.00%, Valid: 73.60% Test: 75.20%\n",
            "Epoch: 40, Loss: 0.0001, Train: 100.00%, Valid: 73.60% Test: 75.30%\n",
            "Epoch: 41, Loss: 0.0004, Train: 100.00%, Valid: 73.20% Test: 75.50%\n",
            "Epoch: 42, Loss: 0.0008, Train: 100.00%, Valid: 73.20% Test: 75.50%\n",
            "Epoch: 43, Loss: 0.0001, Train: 100.00%, Valid: 73.20% Test: 75.40%\n",
            "Epoch: 44, Loss: 0.0001, Train: 100.00%, Valid: 73.20% Test: 75.20%\n",
            "Epoch: 45, Loss: 0.0002, Train: 100.00%, Valid: 73.20% Test: 75.10%\n",
            "Epoch: 46, Loss: 0.0001, Train: 100.00%, Valid: 73.20% Test: 75.00%\n",
            "Epoch: 47, Loss: 0.0000, Train: 100.00%, Valid: 73.20% Test: 75.00%\n",
            "Epoch: 48, Loss: 0.0000, Train: 100.00%, Valid: 73.20% Test: 75.00%\n",
            "Epoch: 49, Loss: 0.0000, Train: 100.00%, Valid: 73.20% Test: 75.10%\n",
            "Epoch: 50, Loss: 0.0000, Train: 100.00%, Valid: 73.00% Test: 75.10%\n",
            "Best model: Train: 100.00%, Valid: 74.00% Test: 75.20%\n"
          ]
        }
      ],
      "source": [
        "graphs_train, graphs_val, graphs_test = \\\n",
        "    GraphDataset.pyg_to_graphs(pyg_dataset, verbose=True, fixed_split=True)\n",
        "\n",
        "graph_train = graphs_train[0]\n",
        "graph_val = graphs_val[0]\n",
        "graph_test = graphs_test[0]\n",
        "\n",
        "model = GNN(graph_train.num_node_features, args['hidden_size'], graph_train.num_node_labels, args).to(args['device'])\n",
        "optimizer = torch.optim.Adam(model.parameters(), lr=args['lr'])\n",
        "graphs = [graph_train, graph_val, graph_test]\n",
        "all_best_model, all_accs = train(graphs, graphs, args, model, optimizer, mode=\"all\")\n",
        "train_acc, val_acc, test_acc = test([graph_train, graph_val, graph_test], all_best_model)\n",
        "print('Best model:',\n",
        "      f'Train: {100 * train_acc:.2f}%, '\n",
        "      f'Valid: {100 * val_acc:.2f}% '\n",
        "      f'Test: {100 * test_acc:.2f}%')"
      ]
    },
    {
      "cell_type": "markdown",
      "metadata": {
        "id": "JWkGiwB6Thr4"
      },
      "source": [
        "## Sampling with Ratios 0.8"
      ]
    },
    {
      "cell_type": "code",
      "execution_count": 17,
      "metadata": {
        "id": "yWusJ9u3Tfhv",
        "colab": {
          "base_uri": "https://localhost:8080/"
        },
        "outputId": "ab94ff1b-90ee-4f69-e761-c5bfd3d5d66f"
      },
      "outputs": [
        {
          "output_type": "stream",
          "name": "stdout",
          "text": [
            "Index fields: val_mask ignored.\n",
            "Index fields: train_mask ignored.\n",
            "Index fields: test_mask ignored.\n",
            "Sampled 1279 nodes, 1929 edges, 140 labeled nodes\n",
            "Epoch: 01, Loss: 1.9968, Train: 35.71%, Valid: 24.20% Test: 23.70%\n",
            "Sampled 1332 nodes, 2019 edges, 140 labeled nodes\n",
            "Epoch: 02, Loss: 1.6380, Train: 56.43%, Valid: 38.20% Test: 36.80%\n",
            "Sampled 1306 nodes, 1972 edges, 140 labeled nodes\n",
            "Epoch: 03, Loss: 1.3664, Train: 69.29%, Valid: 44.20% Test: 42.10%\n",
            "Sampled 1308 nodes, 1991 edges, 140 labeled nodes\n",
            "Epoch: 04, Loss: 1.0416, Train: 83.57%, Valid: 49.80% Test: 49.00%\n",
            "Sampled 1284 nodes, 1905 edges, 140 labeled nodes\n",
            "Epoch: 05, Loss: 0.8410, Train: 90.71%, Valid: 52.60% Test: 53.10%\n",
            "Sampled 1296 nodes, 1940 edges, 140 labeled nodes\n",
            "Epoch: 06, Loss: 0.7168, Train: 95.00%, Valid: 56.00% Test: 55.90%\n",
            "Sampled 1332 nodes, 2037 edges, 140 labeled nodes\n",
            "Epoch: 07, Loss: 0.5080, Train: 97.14%, Valid: 58.00% Test: 57.60%\n",
            "Sampled 1248 nodes, 1876 edges, 140 labeled nodes\n",
            "Epoch: 08, Loss: 0.3708, Train: 97.86%, Valid: 58.00% Test: 59.00%\n",
            "Sampled 1351 nodes, 2007 edges, 140 labeled nodes\n",
            "Epoch: 09, Loss: 0.2780, Train: 98.57%, Valid: 55.60% Test: 58.40%\n",
            "Sampled 1349 nodes, 2096 edges, 140 labeled nodes\n",
            "Epoch: 10, Loss: 0.2435, Train: 98.57%, Valid: 53.00% Test: 57.60%\n",
            "Sampled 1347 nodes, 2079 edges, 140 labeled nodes\n",
            "Epoch: 11, Loss: 0.1812, Train: 99.29%, Valid: 52.20% Test: 57.30%\n",
            "Sampled 1334 nodes, 2006 edges, 140 labeled nodes\n",
            "Epoch: 12, Loss: 0.1403, Train: 99.29%, Valid: 52.40% Test: 56.50%\n",
            "Sampled 1298 nodes, 1979 edges, 140 labeled nodes\n",
            "Epoch: 13, Loss: 0.1239, Train: 99.29%, Valid: 52.80% Test: 56.50%\n",
            "Sampled 1340 nodes, 2034 edges, 140 labeled nodes\n",
            "Epoch: 14, Loss: 0.1329, Train: 100.00%, Valid: 53.00% Test: 56.90%\n",
            "Sampled 1355 nodes, 2046 edges, 140 labeled nodes\n",
            "Epoch: 15, Loss: 0.0860, Train: 100.00%, Valid: 53.20% Test: 56.90%\n",
            "Sampled 1347 nodes, 2060 edges, 140 labeled nodes\n",
            "Epoch: 16, Loss: 0.0424, Train: 100.00%, Valid: 52.20% Test: 56.90%\n",
            "Sampled 1288 nodes, 1917 edges, 140 labeled nodes\n",
            "Epoch: 17, Loss: 0.0542, Train: 100.00%, Valid: 53.00% Test: 56.60%\n",
            "Sampled 1314 nodes, 2007 edges, 140 labeled nodes\n",
            "Epoch: 18, Loss: 0.0280, Train: 100.00%, Valid: 53.00% Test: 55.80%\n",
            "Sampled 1329 nodes, 1995 edges, 140 labeled nodes\n",
            "Epoch: 19, Loss: 0.0642, Train: 100.00%, Valid: 52.40% Test: 55.20%\n",
            "Sampled 1317 nodes, 1994 edges, 140 labeled nodes\n",
            "Epoch: 20, Loss: 0.0448, Train: 100.00%, Valid: 51.80% Test: 55.40%\n",
            "Sampled 1322 nodes, 1985 edges, 140 labeled nodes\n",
            "Epoch: 21, Loss: 0.0387, Train: 100.00%, Valid: 50.80% Test: 55.30%\n",
            "Sampled 1338 nodes, 2047 edges, 140 labeled nodes\n",
            "Epoch: 22, Loss: 0.0112, Train: 100.00%, Valid: 50.40% Test: 55.70%\n",
            "Sampled 1295 nodes, 1996 edges, 140 labeled nodes\n",
            "Epoch: 23, Loss: 0.0244, Train: 100.00%, Valid: 50.80% Test: 55.40%\n",
            "Sampled 1325 nodes, 2017 edges, 140 labeled nodes\n",
            "Epoch: 24, Loss: 0.0298, Train: 100.00%, Valid: 50.60% Test: 55.30%\n",
            "Sampled 1323 nodes, 2023 edges, 140 labeled nodes\n",
            "Epoch: 25, Loss: 0.0130, Train: 100.00%, Valid: 50.00% Test: 55.70%\n",
            "Sampled 1298 nodes, 1983 edges, 140 labeled nodes\n",
            "Epoch: 26, Loss: 0.0265, Train: 100.00%, Valid: 49.80% Test: 55.70%\n",
            "Sampled 1310 nodes, 1975 edges, 140 labeled nodes\n",
            "Epoch: 27, Loss: 0.0078, Train: 100.00%, Valid: 49.60% Test: 55.60%\n",
            "Sampled 1333 nodes, 2016 edges, 140 labeled nodes\n",
            "Epoch: 28, Loss: 0.0196, Train: 100.00%, Valid: 50.20% Test: 55.30%\n",
            "Sampled 1337 nodes, 1996 edges, 140 labeled nodes\n",
            "Epoch: 29, Loss: 0.0079, Train: 100.00%, Valid: 50.20% Test: 55.40%\n",
            "Sampled 1278 nodes, 1928 edges, 140 labeled nodes\n",
            "Epoch: 30, Loss: 0.0314, Train: 100.00%, Valid: 50.20% Test: 55.80%\n",
            "Sampled 1296 nodes, 1932 edges, 140 labeled nodes\n",
            "Epoch: 31, Loss: 0.0092, Train: 100.00%, Valid: 50.60% Test: 55.80%\n",
            "Sampled 1325 nodes, 1998 edges, 140 labeled nodes\n",
            "Epoch: 32, Loss: 0.0116, Train: 100.00%, Valid: 50.60% Test: 55.90%\n",
            "Sampled 1356 nodes, 2076 edges, 140 labeled nodes\n",
            "Epoch: 33, Loss: 0.0147, Train: 100.00%, Valid: 51.20% Test: 56.00%\n",
            "Sampled 1318 nodes, 2017 edges, 140 labeled nodes\n",
            "Epoch: 34, Loss: 0.0058, Train: 100.00%, Valid: 51.20% Test: 56.10%\n",
            "Sampled 1293 nodes, 1957 edges, 140 labeled nodes\n",
            "Epoch: 35, Loss: 0.0375, Train: 100.00%, Valid: 51.40% Test: 55.90%\n",
            "Sampled 1346 nodes, 1993 edges, 140 labeled nodes\n",
            "Epoch: 36, Loss: 0.0126, Train: 100.00%, Valid: 52.00% Test: 56.20%\n",
            "Sampled 1346 nodes, 2023 edges, 140 labeled nodes\n",
            "Epoch: 37, Loss: 0.0377, Train: 100.00%, Valid: 52.60% Test: 56.90%\n",
            "Sampled 1288 nodes, 1929 edges, 140 labeled nodes\n",
            "Epoch: 38, Loss: 0.0076, Train: 100.00%, Valid: 52.60% Test: 56.70%\n",
            "Sampled 1302 nodes, 1978 edges, 140 labeled nodes\n",
            "Epoch: 39, Loss: 0.0051, Train: 100.00%, Valid: 52.60% Test: 56.80%\n",
            "Sampled 1318 nodes, 1981 edges, 140 labeled nodes\n",
            "Epoch: 40, Loss: 0.0217, Train: 100.00%, Valid: 52.40% Test: 57.00%\n",
            "Sampled 1309 nodes, 1982 edges, 140 labeled nodes\n",
            "Epoch: 41, Loss: 0.0036, Train: 100.00%, Valid: 52.00% Test: 57.10%\n",
            "Sampled 1332 nodes, 2023 edges, 140 labeled nodes\n",
            "Epoch: 42, Loss: 0.0061, Train: 100.00%, Valid: 52.20% Test: 57.20%\n",
            "Sampled 1270 nodes, 1920 edges, 140 labeled nodes\n",
            "Epoch: 43, Loss: 0.0298, Train: 100.00%, Valid: 52.20% Test: 57.10%\n",
            "Sampled 1311 nodes, 1985 edges, 140 labeled nodes\n",
            "Epoch: 44, Loss: 0.0074, Train: 100.00%, Valid: 52.20% Test: 56.70%\n",
            "Sampled 1301 nodes, 1957 edges, 140 labeled nodes\n",
            "Epoch: 45, Loss: 0.0110, Train: 100.00%, Valid: 52.20% Test: 56.20%\n",
            "Sampled 1345 nodes, 2002 edges, 140 labeled nodes\n",
            "Epoch: 46, Loss: 0.0049, Train: 100.00%, Valid: 52.40% Test: 55.80%\n",
            "Sampled 1334 nodes, 2044 edges, 140 labeled nodes\n",
            "Epoch: 47, Loss: 0.0083, Train: 100.00%, Valid: 52.40% Test: 56.00%\n",
            "Sampled 1310 nodes, 1942 edges, 140 labeled nodes\n",
            "Epoch: 48, Loss: 0.0192, Train: 100.00%, Valid: 51.80% Test: 55.90%\n",
            "Sampled 1294 nodes, 1978 edges, 140 labeled nodes\n",
            "Epoch: 49, Loss: 0.0086, Train: 100.00%, Valid: 51.60% Test: 55.80%\n",
            "Sampled 1292 nodes, 1963 edges, 140 labeled nodes\n",
            "Epoch: 50, Loss: 0.0085, Train: 100.00%, Valid: 51.60% Test: 55.80%\n",
            "Best model: Train: 97.14%, Valid: 58.00% Test: 57.60%\n"
          ]
        }
      ],
      "source": [
        "args['ratios'] = (0.8, 0.8, 1)\n",
        "\n",
        "graphs_train, graphs_val, graphs_test = \\\n",
        "    GraphDataset.pyg_to_graphs(pyg_dataset, verbose=True, fixed_split=True)\n",
        "\n",
        "graph_train = graphs_train[0]\n",
        "graph_val = graphs_val[0]\n",
        "graph_test = graphs_test[0]\n",
        "\n",
        "model = GNN(graph_train.num_node_features, args['hidden_size'], graph_train.num_node_labels, args).to(args['device'])\n",
        "optimizer = torch.optim.Adam(model.parameters(), lr=args['lr'])\n",
        "graphs = [graph_train, graph_val, graph_test]\n",
        "batch_best_model, batch_accs = train(graphs, graphs, args, model, optimizer)\n",
        "train_acc, val_acc, test_acc = test([graph_train, graph_val, graph_test], batch_best_model)\n",
        "print('Best model:',\n",
        "      f'Train: {100 * train_acc:.2f}%, '\n",
        "      f'Valid: {100 * val_acc:.2f}% '\n",
        "      f'Test: {100 * test_acc:.2f}%')"
      ]
    },
    {
      "cell_type": "markdown",
      "metadata": {
        "id": "w_FjkNHDT4c6"
      },
      "source": [
        "## Sampling with Ratios 0.3"
      ]
    },
    {
      "cell_type": "code",
      "execution_count": 18,
      "metadata": {
        "id": "booJ6DASTjO4",
        "colab": {
          "base_uri": "https://localhost:8080/"
        },
        "outputId": "41000252-9d8a-4e3a-86e5-94bf3a2dca1a"
      },
      "outputs": [
        {
          "output_type": "stream",
          "name": "stdout",
          "text": [
            "Index fields: val_mask ignored.\n",
            "Index fields: train_mask ignored.\n",
            "Index fields: test_mask ignored.\n",
            "Sampled 391 nodes, 205 edges, 140 labeled nodes\n",
            "Epoch: 01, Loss: 1.9897, Train: 14.29%, Valid: 5.80% Test: 6.50%\n",
            "Sampled 432 nodes, 233 edges, 140 labeled nodes\n",
            "Epoch: 02, Loss: 1.9423, Train: 14.29%, Valid: 6.20% Test: 6.60%\n",
            "Sampled 431 nodes, 237 edges, 140 labeled nodes\n",
            "Epoch: 03, Loss: 1.9313, Train: 21.43%, Valid: 6.80% Test: 7.60%\n",
            "Sampled 386 nodes, 197 edges, 140 labeled nodes\n",
            "Epoch: 04, Loss: 1.8463, Train: 26.43%, Valid: 9.40% Test: 9.00%\n",
            "Sampled 387 nodes, 194 edges, 140 labeled nodes\n",
            "Epoch: 05, Loss: 1.8489, Train: 33.57%, Valid: 10.40% Test: 11.90%\n",
            "Sampled 406 nodes, 231 edges, 140 labeled nodes\n",
            "Epoch: 06, Loss: 1.7703, Train: 35.71%, Valid: 13.40% Test: 13.50%\n",
            "Sampled 425 nodes, 234 edges, 140 labeled nodes\n",
            "Epoch: 07, Loss: 1.8478, Train: 37.86%, Valid: 13.60% Test: 14.20%\n",
            "Sampled 435 nodes, 251 edges, 140 labeled nodes\n",
            "Epoch: 08, Loss: 1.7179, Train: 37.86%, Valid: 13.20% Test: 14.50%\n",
            "Sampled 437 nodes, 249 edges, 140 labeled nodes\n",
            "Epoch: 09, Loss: 1.8048, Train: 40.00%, Valid: 13.00% Test: 14.80%\n",
            "Sampled 429 nodes, 247 edges, 140 labeled nodes\n",
            "Epoch: 10, Loss: 1.7131, Train: 42.86%, Valid: 15.20% Test: 16.20%\n",
            "Sampled 387 nodes, 197 edges, 140 labeled nodes\n",
            "Epoch: 11, Loss: 1.7787, Train: 47.14%, Valid: 16.80% Test: 18.10%\n",
            "Sampled 427 nodes, 240 edges, 140 labeled nodes\n",
            "Epoch: 12, Loss: 1.7355, Train: 47.86%, Valid: 17.80% Test: 21.30%\n",
            "Sampled 436 nodes, 263 edges, 140 labeled nodes\n",
            "Epoch: 13, Loss: 1.6623, Train: 51.43%, Valid: 21.20% Test: 24.70%\n",
            "Sampled 439 nodes, 259 edges, 140 labeled nodes\n",
            "Epoch: 14, Loss: 1.7026, Train: 54.29%, Valid: 24.00% Test: 29.10%\n",
            "Sampled 393 nodes, 196 edges, 140 labeled nodes\n",
            "Epoch: 15, Loss: 1.6878, Train: 56.43%, Valid: 27.80% Test: 32.90%\n",
            "Sampled 432 nodes, 245 edges, 140 labeled nodes\n",
            "Epoch: 16, Loss: 1.7324, Train: 55.71%, Valid: 29.80% Test: 36.40%\n",
            "Sampled 413 nodes, 232 edges, 140 labeled nodes\n",
            "Epoch: 17, Loss: 1.7081, Train: 56.43%, Valid: 32.80% Test: 39.50%\n",
            "Sampled 448 nodes, 269 edges, 140 labeled nodes\n",
            "Epoch: 18, Loss: 1.5957, Train: 58.57%, Valid: 35.20% Test: 40.60%\n",
            "Sampled 422 nodes, 248 edges, 140 labeled nodes\n",
            "Epoch: 19, Loss: 1.5491, Train: 58.57%, Valid: 35.40% Test: 41.30%\n",
            "Sampled 444 nodes, 267 edges, 140 labeled nodes\n",
            "Epoch: 20, Loss: 1.7161, Train: 59.29%, Valid: 35.80% Test: 41.60%\n",
            "Sampled 363 nodes, 172 edges, 140 labeled nodes\n",
            "Epoch: 21, Loss: 1.6221, Train: 59.29%, Valid: 34.80% Test: 41.00%\n",
            "Sampled 410 nodes, 229 edges, 140 labeled nodes\n",
            "Epoch: 22, Loss: 1.6388, Train: 59.29%, Valid: 33.00% Test: 39.30%\n",
            "Sampled 444 nodes, 259 edges, 140 labeled nodes\n",
            "Epoch: 23, Loss: 1.5742, Train: 59.29%, Valid: 32.80% Test: 37.30%\n",
            "Sampled 372 nodes, 182 edges, 140 labeled nodes\n",
            "Epoch: 24, Loss: 1.6153, Train: 60.00%, Valid: 31.60% Test: 35.70%\n",
            "Sampled 402 nodes, 226 edges, 140 labeled nodes\n",
            "Epoch: 25, Loss: 1.4545, Train: 61.43%, Valid: 32.00% Test: 35.00%\n",
            "Sampled 424 nodes, 233 edges, 140 labeled nodes\n",
            "Epoch: 26, Loss: 1.5545, Train: 60.71%, Valid: 31.80% Test: 34.30%\n",
            "Sampled 417 nodes, 212 edges, 140 labeled nodes\n",
            "Epoch: 27, Loss: 1.7591, Train: 60.00%, Valid: 31.20% Test: 33.50%\n",
            "Sampled 408 nodes, 219 edges, 140 labeled nodes\n",
            "Epoch: 28, Loss: 1.6845, Train: 60.00%, Valid: 31.60% Test: 34.50%\n",
            "Sampled 462 nodes, 278 edges, 140 labeled nodes\n",
            "Epoch: 29, Loss: 1.6482, Train: 60.71%, Valid: 33.00% Test: 34.80%\n",
            "Sampled 439 nodes, 269 edges, 140 labeled nodes\n",
            "Epoch: 30, Loss: 1.4558, Train: 60.71%, Valid: 33.60% Test: 36.20%\n",
            "Sampled 477 nodes, 308 edges, 140 labeled nodes\n",
            "Epoch: 31, Loss: 1.5546, Train: 61.43%, Valid: 34.80% Test: 36.80%\n",
            "Sampled 428 nodes, 250 edges, 140 labeled nodes\n",
            "Epoch: 32, Loss: 1.6272, Train: 62.14%, Valid: 35.80% Test: 39.00%\n",
            "Sampled 415 nodes, 214 edges, 140 labeled nodes\n",
            "Epoch: 33, Loss: 1.7298, Train: 63.57%, Valid: 36.80% Test: 39.90%\n",
            "Sampled 422 nodes, 231 edges, 140 labeled nodes\n",
            "Epoch: 34, Loss: 1.4197, Train: 62.86%, Valid: 36.80% Test: 40.40%\n",
            "Sampled 383 nodes, 207 edges, 140 labeled nodes\n",
            "Epoch: 35, Loss: 1.4364, Train: 62.14%, Valid: 37.80% Test: 40.90%\n",
            "Sampled 366 nodes, 163 edges, 140 labeled nodes\n",
            "Epoch: 36, Loss: 1.5948, Train: 62.86%, Valid: 37.20% Test: 40.80%\n",
            "Sampled 418 nodes, 238 edges, 140 labeled nodes\n",
            "Epoch: 37, Loss: 1.4648, Train: 62.14%, Valid: 37.20% Test: 40.60%\n",
            "Sampled 433 nodes, 254 edges, 140 labeled nodes\n",
            "Epoch: 38, Loss: 1.5362, Train: 60.71%, Valid: 37.00% Test: 40.60%\n",
            "Sampled 436 nodes, 243 edges, 140 labeled nodes\n",
            "Epoch: 39, Loss: 1.6054, Train: 62.14%, Valid: 37.00% Test: 40.50%\n",
            "Sampled 446 nodes, 259 edges, 140 labeled nodes\n",
            "Epoch: 40, Loss: 1.5059, Train: 61.43%, Valid: 37.60% Test: 41.50%\n",
            "Sampled 436 nodes, 259 edges, 140 labeled nodes\n",
            "Epoch: 41, Loss: 1.4703, Train: 60.00%, Valid: 37.00% Test: 41.80%\n",
            "Sampled 427 nodes, 259 edges, 140 labeled nodes\n",
            "Epoch: 42, Loss: 1.5629, Train: 61.43%, Valid: 37.40% Test: 42.20%\n",
            "Sampled 444 nodes, 253 edges, 140 labeled nodes\n",
            "Epoch: 43, Loss: 1.5113, Train: 62.86%, Valid: 38.00% Test: 42.20%\n",
            "Sampled 404 nodes, 212 edges, 140 labeled nodes\n",
            "Epoch: 44, Loss: 1.4770, Train: 65.71%, Valid: 38.00% Test: 42.60%\n",
            "Sampled 400 nodes, 218 edges, 140 labeled nodes\n",
            "Epoch: 45, Loss: 1.4485, Train: 65.71%, Valid: 38.20% Test: 42.50%\n",
            "Sampled 444 nodes, 252 edges, 140 labeled nodes\n",
            "Epoch: 46, Loss: 1.6870, Train: 65.00%, Valid: 38.40% Test: 42.50%\n",
            "Sampled 422 nodes, 235 edges, 140 labeled nodes\n",
            "Epoch: 47, Loss: 1.5416, Train: 65.00%, Valid: 38.20% Test: 42.80%\n",
            "Sampled 421 nodes, 241 edges, 140 labeled nodes\n",
            "Epoch: 48, Loss: 1.5507, Train: 67.14%, Valid: 38.00% Test: 41.70%\n",
            "Sampled 454 nodes, 269 edges, 140 labeled nodes\n",
            "Epoch: 49, Loss: 1.5653, Train: 66.43%, Valid: 37.80% Test: 41.40%\n",
            "Sampled 426 nodes, 225 edges, 140 labeled nodes\n",
            "Epoch: 50, Loss: 1.5334, Train: 66.43%, Valid: 38.40% Test: 41.20%\n",
            "Best model: Train: 65.00%, Valid: 38.40% Test: 42.50%\n"
          ]
        }
      ],
      "source": [
        "# Change the ratio to 0.3\n",
        "args['ratios'] = (0.3, 0.3, 1)\n",
        "\n",
        "graphs_train, graphs_val, graphs_test = \\\n",
        "    GraphDataset.pyg_to_graphs(pyg_dataset, verbose=True, fixed_split=True)\n",
        "\n",
        "graph_train = graphs_train[0]\n",
        "graph_val = graphs_val[0]\n",
        "graph_test = graphs_test[0]\n",
        "\n",
        "model = GNN(graph_train.num_node_features, args['hidden_size'], graph_train.num_node_labels, args).to(args['device'])\n",
        "optimizer = torch.optim.Adam(model.parameters(), lr=args['lr'])\n",
        "graphs = [graph_train, graph_val, graph_test]\n",
        "batch_best_model, batch_accs_1 = train(graphs, graphs, args, model, optimizer)\n",
        "train_acc, val_acc, test_acc = test([graph_train, graph_val, graph_test], batch_best_model)\n",
        "print('Best model:',\n",
        "      f'Train: {100 * train_acc:.2f}%, '\n",
        "      f'Valid: {100 * val_acc:.2f}% '\n",
        "      f'Test: {100 * test_acc:.2f}%')"
      ]
    },
    {
      "cell_type": "markdown",
      "metadata": {
        "id": "EePAvNlGUM2K"
      },
      "source": [
        "## Visualization"
      ]
    },
    {
      "cell_type": "code",
      "execution_count": 19,
      "metadata": {
        "id": "7etNAkXAT55d",
        "colab": {
          "base_uri": "https://localhost:8080/",
          "height": 641
        },
        "outputId": "abd7bdce-ffba-4cbe-8c32-97ec3b5a08f3"
      },
      "outputs": [
        {
          "output_type": "display_data",
          "data": {
            "text/plain": [
              "<Figure size 900x700 with 1 Axes>"
            ],
            "image/png": "[encoded data removed]"
          },
          "metadata": {}
        }
      ],
      "source": [
        "import numpy as np\n",
        "from matplotlib import pyplot as plt\n",
        "\n",
        "batch_results = np.array(batch_accs)\n",
        "batch_results_1 = np.array(batch_accs_1)\n",
        "all_results = np.array(all_accs)\n",
        "\n",
        "x = np.arange(1, 51)\n",
        "\n",
        "plt.figure(figsize=(9, 7))\n",
        "\n",
        "plt.plot(x, batch_results[:, 0], label=\"Batch 0.8 Train\")\n",
        "plt.plot(x, batch_results[:, 1], label=\"Batch 0.8 Validation\")\n",
        "plt.plot(x, batch_results[:, 2], label=\"Batch 0.8 Test\")\n",
        "plt.plot(x, batch_results_1[:, 0], label=\"Batch 0.3 Train\")\n",
        "plt.plot(x, batch_results_1[:, 1], label=\"Batch 0.3 Validation\")\n",
        "plt.plot(x, batch_results_1[:, 2], label=\"Batch 0.3 Test\")\n",
        "plt.plot(x, all_results[:, 0], label=\"All Train\")\n",
        "plt.plot(x, all_results[:, 1], label=\"All Validation\")\n",
        "plt.plot(x, all_results[:, 2], label=\"All Test\")\n",
        "plt.title('Model Accuracy')\n",
        "plt.ylabel('Accuracy')\n",
        "plt.xlabel('Epoch')\n",
        "plt.legend()\n",
        "plt.show()"
      ]
    },
    {
      "cell_type": "markdown",
      "metadata": {
        "id": "bkA7-0groq7q"
      },
      "source": [
        "Here all accuracies are evaluated on the full-batch mode."
      ]
    },
    {
      "cell_type": "markdown",
      "metadata": {
        "id": "Iee0U8KGURc8"
      },
      "source": [
        "# 3 Cluster Sampling\n",
        "\n",
        "Instead of the neighbor sampling, we can use another approach, subgraph (cluster) sampling, to scale up GNN. This approach is proposed in Cluster-GCN ([Chiang et al. (2019)](https://arxiv.org/abs/1905.07953)).\n",
        "\n",
        "In this section, we will implement vanilla Cluster-GCN and experiment with 3 different community partition algorithms.\n",
        "\n",
        "Notice that this section requires you have run the `Setup`, `GNN Model` and `Training and Testing` cells of the last section."
      ]
    },
    {
      "cell_type": "markdown",
      "metadata": {
        "id": "_BXjP79gUYir"
      },
      "source": [
        "## Setup"
      ]
    },
    {
      "cell_type": "code",
      "source": [
        "!pip install python-louvain"
      ],
      "metadata": {
        "colab": {
          "base_uri": "https://localhost:8080/"
        },
        "id": "fKWAgwGF-ega",
        "outputId": "1e01fac0-715a-4a17-893c-4ca0e30bf7ca"
      },
      "execution_count": 25,
      "outputs": [
        {
          "output_type": "stream",
          "name": "stdout",
          "text": [
            "Requirement already satisfied: python-louvain in /usr/local/lib/python3.10/dist-packages (0.16)\n",
            "Requirement already satisfied: networkx in /usr/local/lib/python3.10/dist-packages (from python-louvain) (3.2.1)\n",
            "Requirement already satisfied: numpy in /usr/local/lib/python3.10/dist-packages (from python-louvain) (1.23.5)\n"
          ]
        }
      ]
    },
    {
      "cell_type": "code",
      "execution_count": 30,
      "metadata": {
        "id": "UGQ_VKp8UOEm"
      },
      "outputs": [],
      "source": [
        "import copy\n",
        "import torch\n",
        "import random\n",
        "import numpy as np\n",
        "import networkx as nx\n",
        "import torch.nn as nn\n",
        "import torch.nn.functional as F\n",
        "import community.community_louvain as community_louvain\n",
        "\n",
        "from torch_geometric.nn import SAGEConv\n",
        "from torch.utils.data import DataLoader\n",
        "from torch_geometric.datasets import Planetoid\n",
        "from torch.nn import Sequential, Linear, ReLU\n",
        "from deepsnap.dataset import GraphDataset\n",
        "from deepsnap.graph import Graph\n",
        "\n",
        "pyg_dataset = Planetoid('./tmp', \"Cora\")"
      ]
    },
    {
      "cell_type": "code",
      "execution_count": 31,
      "metadata": {
        "id": "bzMatyCSUaB6"
      },
      "outputs": [],
      "source": [
        "args = {\n",
        "    'device': torch.device('cuda' if torch.cuda.is_available() else 'cpu'),\n",
        "    'dropout': 0.5,\n",
        "    'num_layers': 2,\n",
        "    'hidden_size': 64,\n",
        "    'lr': 0.005,\n",
        "    'epochs': 150,\n",
        "}"
      ]
    },
    {
      "cell_type": "markdown",
      "metadata": {
        "id": "ekV-sokSUeLc"
      },
      "source": [
        "## Partition the Graph into Clusters\n",
        "\n",
        "Here we use following three community detection / partition algorithms to partition the graph into different clusters:\n",
        "* [Kernighan–Lin algorithm (bisection)](https://networkx.org/documentation/stable/reference/algorithms/generated/networkx.algorithms.community.kernighan_lin.kernighan_lin_bisection.html)\n",
        "* [Clauset-Newman-Moore greedy modularity maximization](https://networkx.org/documentation/stable/reference/algorithms/generated/networkx.algorithms.community.modularity_max.greedy_modularity_communities.html#networkx.algorithms.community.modularity_max.greedy_modularity_communities)\n",
        "* [Louvain algorithm](https://python-louvain.readthedocs.io/en/latest/api.html)\n",
        "\n",
        "\n",
        "To make the training more stable, we discard the cluster that has less than 10 nodes.\n",
        "\n",
        "Let's first define these algorithms as DeepSNAP transformation on a graph."
      ]
    },
    {
      "cell_type": "code",
      "execution_count": 32,
      "metadata": {
        "id": "N8XeT005UcKh"
      },
      "outputs": [],
      "source": [
        "def preprocess(G, node_label_index, method=\"louvain\"):\n",
        "    graphs = []\n",
        "    labeled_nodes = set(node_label_index.tolist())\n",
        "    if method == \"louvain\":\n",
        "        community_mapping = community_louvain.best_partition(G, resolution=10)\n",
        "        communities = {}\n",
        "        for node in community_mapping:\n",
        "            comm = community_mapping[node]\n",
        "            if comm in communities:\n",
        "                communities[comm].add(node)\n",
        "            else:\n",
        "                communities[comm] = set([node])\n",
        "        communities = communities.values()\n",
        "    elif method == \"bisection\":\n",
        "        communities = nx.algorithms.community.kernighan_lin_bisection(G)\n",
        "    elif method == \"greedy\":\n",
        "        communities = nx.algorithms.community.greedy_modularity_communities(G)\n",
        "\n",
        "    for community in communities:\n",
        "        nodes = set(community)\n",
        "        subgraph = G.subgraph(nodes)\n",
        "        # Make sure each subgraph has more than 10 nodes\n",
        "        if subgraph.number_of_nodes() > 10:\n",
        "            node_mapping = {node : i for i, node in enumerate(subgraph.nodes())}\n",
        "            subgraph = nx.relabel_nodes(subgraph, node_mapping)\n",
        "            # Get the id of the training set labeled node in the new graph\n",
        "            train_label_index = []\n",
        "            for node in labeled_nodes:\n",
        "                if node in node_mapping:\n",
        "                    # Append relabeled labeled node index\n",
        "                    train_label_index.append(node_mapping[node])\n",
        "\n",
        "            # Make sure the subgraph contains at least one training set labeled node\n",
        "            if len(train_label_index) > 0:\n",
        "                dg = Graph(subgraph)\n",
        "                # Update node_label_index\n",
        "                dg.node_label_index = torch.tensor(train_label_index, dtype=torch.long)\n",
        "                graphs.append(dg)\n",
        "    return graphs"
      ]
    },
    {
      "cell_type": "markdown",
      "metadata": {
        "id": "7CYEamCAU-TJ"
      },
      "source": [
        "## Louvain Preprocess"
      ]
    },
    {
      "cell_type": "code",
      "execution_count": 33,
      "metadata": {
        "id": "-TrC6ybWU7eO",
        "colab": {
          "base_uri": "https://localhost:8080/"
        },
        "outputId": "b84c250b-52d1-4b21-be97-c393bbaf29db"
      },
      "outputs": [
        {
          "output_type": "stream",
          "name": "stdout",
          "text": [
            "Index fields: val_mask ignored.\n",
            "Index fields: train_mask ignored.\n",
            "Index fields: test_mask ignored.\n",
            "Partition the graph in to 77 communities\n",
            "Each community has 21 nodes in average\n",
            "Each community has 32 edges in average\n"
          ]
        }
      ],
      "source": [
        "graphs_train, graphs_val, graphs_test = \\\n",
        "    GraphDataset.pyg_to_graphs(pyg_dataset, verbose=True, fixed_split=True)\n",
        "\n",
        "graph_train = graphs_train[0]\n",
        "graph_val = graphs_val[0]\n",
        "graph_test = graphs_test[0]\n",
        "graphs = preprocess(graph_train.G, graph_train.node_label_index, method=\"louvain\")\n",
        "print(\"Partition the graph in to {} communities\".format(len(graphs)))\n",
        "avg_num_nodes = 0\n",
        "avg_num_edges = 0\n",
        "for graph in graphs:\n",
        "    avg_num_nodes += graph.num_nodes\n",
        "    avg_num_edges += graph.num_edges\n",
        "avg_num_nodes = int(avg_num_nodes / len(graphs))\n",
        "avg_num_edges = int(avg_num_edges / len(graphs))\n",
        "print(\"Each community has {} nodes in average\".format(avg_num_nodes))\n",
        "print(\"Each community has {} edges in average\".format(avg_num_edges))"
      ]
    },
    {
      "cell_type": "markdown",
      "metadata": {
        "id": "O03uXIuGVIgJ"
      },
      "source": [
        "## Louvain Training"
      ]
    },
    {
      "cell_type": "code",
      "execution_count": 34,
      "metadata": {
        "id": "iSbGf5ADVFQq",
        "colab": {
          "base_uri": "https://localhost:8080/"
        },
        "outputId": "f4f61c4b-f463-4bc9-83b8-b6bd66268caf"
      },
      "outputs": [
        {
          "output_type": "stream",
          "name": "stdout",
          "text": [
            "Epoch: 01, Loss: 1.7783, Train: 14.29%, Valid: 7.60% Test: 9.10%\n",
            "Epoch: 02, Loss: 2.7581, Train: 15.71%, Valid: 11.00% Test: 12.20%\n",
            "Epoch: 03, Loss: 2.2005, Train: 15.00%, Valid: 12.00% Test: 12.90%\n",
            "Epoch: 04, Loss: 1.9961, Train: 15.00%, Valid: 12.40% Test: 13.10%\n",
            "Epoch: 05, Loss: 0.8791, Train: 16.43%, Valid: 13.00% Test: 13.70%\n",
            "Epoch: 06, Loss: 2.8747, Train: 17.86%, Valid: 14.20% Test: 15.60%\n",
            "Epoch: 07, Loss: 3.4238, Train: 18.57%, Valid: 16.40% Test: 17.40%\n",
            "Epoch: 08, Loss: 1.6673, Train: 19.29%, Valid: 17.80% Test: 17.60%\n",
            "Epoch: 09, Loss: 1.0640, Train: 19.29%, Valid: 17.40% Test: 20.00%\n",
            "Epoch: 10, Loss: 2.5644, Train: 17.86%, Valid: 20.00% Test: 21.10%\n",
            "Epoch: 11, Loss: 3.2060, Train: 17.86%, Valid: 20.80% Test: 19.60%\n",
            "Epoch: 12, Loss: 0.0462, Train: 16.43%, Valid: 23.20% Test: 20.20%\n",
            "Epoch: 13, Loss: 3.1439, Train: 18.57%, Valid: 24.80% Test: 20.70%\n",
            "Epoch: 14, Loss: 1.9348, Train: 17.86%, Valid: 25.40% Test: 20.80%\n",
            "Epoch: 15, Loss: 1.0858, Train: 18.57%, Valid: 27.60% Test: 23.90%\n",
            "Epoch: 16, Loss: 0.8796, Train: 17.86%, Valid: 29.80% Test: 25.90%\n",
            "Epoch: 17, Loss: 0.0533, Train: 18.57%, Valid: 28.80% Test: 26.20%\n",
            "Epoch: 18, Loss: 2.3876, Train: 17.86%, Valid: 29.80% Test: 26.50%\n",
            "Epoch: 19, Loss: 3.1736, Train: 17.86%, Valid: 29.80% Test: 27.10%\n",
            "Epoch: 20, Loss: 1.3440, Train: 17.86%, Valid: 29.60% Test: 27.80%\n",
            "Epoch: 21, Loss: 0.1081, Train: 20.00%, Valid: 30.00% Test: 27.60%\n",
            "Epoch: 22, Loss: 2.0650, Train: 20.00%, Valid: 30.40% Test: 27.60%\n",
            "Epoch: 23, Loss: 2.9580, Train: 20.71%, Valid: 29.80% Test: 27.60%\n",
            "Epoch: 24, Loss: 0.8316, Train: 24.29%, Valid: 28.20% Test: 27.20%\n",
            "Epoch: 25, Loss: 3.1570, Train: 23.57%, Valid: 27.40% Test: 26.90%\n",
            "Epoch: 26, Loss: 2.0072, Train: 24.29%, Valid: 25.00% Test: 25.20%\n",
            "Epoch: 27, Loss: 3.3111, Train: 25.00%, Valid: 23.60% Test: 23.30%\n",
            "Epoch: 28, Loss: 3.9651, Train: 29.29%, Valid: 21.60% Test: 23.10%\n",
            "Epoch: 29, Loss: 1.5469, Train: 28.57%, Valid: 20.80% Test: 21.60%\n",
            "Epoch: 30, Loss: 2.4213, Train: 25.71%, Valid: 19.40% Test: 20.30%\n",
            "Epoch: 31, Loss: 0.1920, Train: 27.14%, Valid: 18.00% Test: 17.70%\n",
            "Epoch: 32, Loss: 1.3737, Train: 29.29%, Valid: 18.20% Test: 17.80%\n",
            "Epoch: 33, Loss: 1.6225, Train: 32.14%, Valid: 15.20% Test: 17.70%\n",
            "Epoch: 34, Loss: 0.1418, Train: 32.86%, Valid: 16.60% Test: 18.60%\n",
            "Epoch: 35, Loss: 0.6725, Train: 33.57%, Valid: 16.60% Test: 18.00%\n",
            "Epoch: 36, Loss: 2.0148, Train: 31.43%, Valid: 16.40% Test: 18.50%\n",
            "Epoch: 37, Loss: 2.0657, Train: 28.57%, Valid: 17.20% Test: 18.20%\n",
            "Epoch: 38, Loss: 4.0732, Train: 30.00%, Valid: 18.00% Test: 18.30%\n",
            "Epoch: 39, Loss: 0.0035, Train: 30.00%, Valid: 17.80% Test: 19.40%\n",
            "Epoch: 40, Loss: 3.6957, Train: 30.00%, Valid: 18.80% Test: 18.60%\n",
            "Epoch: 41, Loss: 0.3345, Train: 30.00%, Valid: 18.80% Test: 18.50%\n",
            "Epoch: 42, Loss: 0.1482, Train: 29.29%, Valid: 19.40% Test: 18.50%\n",
            "Epoch: 43, Loss: 3.8027, Train: 30.00%, Valid: 20.00% Test: 19.20%\n",
            "Epoch: 44, Loss: 0.0013, Train: 30.00%, Valid: 19.60% Test: 20.50%\n",
            "Epoch: 45, Loss: 1.5588, Train: 30.71%, Valid: 20.00% Test: 20.40%\n",
            "Epoch: 46, Loss: 0.0906, Train: 30.00%, Valid: 20.20% Test: 20.10%\n",
            "Epoch: 47, Loss: 0.3442, Train: 31.43%, Valid: 19.60% Test: 20.10%\n",
            "Epoch: 48, Loss: 3.1169, Train: 30.71%, Valid: 19.80% Test: 19.20%\n",
            "Epoch: 49, Loss: 3.4306, Train: 33.57%, Valid: 19.60% Test: 19.70%\n",
            "Epoch: 50, Loss: 0.0005, Train: 32.86%, Valid: 20.40% Test: 21.30%\n",
            "Epoch: 51, Loss: 2.2673, Train: 35.71%, Valid: 21.60% Test: 20.00%\n",
            "Epoch: 52, Loss: 1.6843, Train: 37.14%, Valid: 22.00% Test: 19.10%\n",
            "Epoch: 53, Loss: 2.1732, Train: 39.29%, Valid: 21.20% Test: 18.40%\n",
            "Epoch: 54, Loss: 0.1909, Train: 37.86%, Valid: 21.00% Test: 18.10%\n",
            "Epoch: 55, Loss: 3.2320, Train: 37.86%, Valid: 21.80% Test: 18.80%\n",
            "Epoch: 56, Loss: 2.7488, Train: 38.57%, Valid: 22.60% Test: 18.20%\n",
            "Epoch: 57, Loss: 0.1796, Train: 40.00%, Valid: 22.60% Test: 18.90%\n",
            "Epoch: 58, Loss: 1.0061, Train: 40.71%, Valid: 22.00% Test: 19.40%\n",
            "Epoch: 59, Loss: 0.6424, Train: 40.00%, Valid: 22.40% Test: 18.10%\n",
            "Epoch: 60, Loss: 0.0539, Train: 39.29%, Valid: 21.80% Test: 17.20%\n",
            "Epoch: 61, Loss: 1.3009, Train: 40.00%, Valid: 22.00% Test: 17.20%\n",
            "Epoch: 62, Loss: 2.1977, Train: 40.00%, Valid: 22.80% Test: 17.40%\n",
            "Epoch: 63, Loss: 2.3630, Train: 40.00%, Valid: 23.20% Test: 17.90%\n",
            "Epoch: 64, Loss: 2.6791, Train: 39.29%, Valid: 21.60% Test: 17.20%\n",
            "Epoch: 65, Loss: 2.0463, Train: 38.57%, Valid: 21.20% Test: 16.80%\n",
            "Epoch: 66, Loss: 1.4572, Train: 39.29%, Valid: 19.60% Test: 16.30%\n",
            "Epoch: 67, Loss: 0.4403, Train: 37.14%, Valid: 19.20% Test: 16.10%\n",
            "Epoch: 68, Loss: 0.7581, Train: 40.00%, Valid: 19.80% Test: 17.20%\n",
            "Epoch: 69, Loss: 0.5941, Train: 42.14%, Valid: 17.20% Test: 16.70%\n",
            "Epoch: 70, Loss: 1.8391, Train: 42.86%, Valid: 18.40% Test: 17.00%\n",
            "Epoch: 71, Loss: 1.8964, Train: 42.14%, Valid: 18.80% Test: 18.40%\n",
            "Epoch: 72, Loss: 1.6341, Train: 41.43%, Valid: 18.40% Test: 19.20%\n",
            "Epoch: 73, Loss: 2.7912, Train: 40.71%, Valid: 21.20% Test: 19.00%\n",
            "Epoch: 74, Loss: 0.2946, Train: 41.43%, Valid: 21.40% Test: 19.20%\n",
            "Epoch: 75, Loss: 1.7917, Train: 42.14%, Valid: 20.20% Test: 18.20%\n",
            "Epoch: 76, Loss: 2.8129, Train: 42.86%, Valid: 19.80% Test: 17.90%\n",
            "Epoch: 77, Loss: 2.6602, Train: 42.14%, Valid: 20.60% Test: 17.40%\n",
            "Epoch: 78, Loss: 0.1203, Train: 43.57%, Valid: 20.60% Test: 16.90%\n",
            "Epoch: 79, Loss: 0.1404, Train: 43.57%, Valid: 19.60% Test: 15.80%\n",
            "Epoch: 80, Loss: 0.3796, Train: 43.57%, Valid: 17.40% Test: 15.10%\n",
            "Epoch: 81, Loss: 0.0330, Train: 43.57%, Valid: 17.40% Test: 15.40%\n",
            "Epoch: 82, Loss: 0.0997, Train: 43.57%, Valid: 15.20% Test: 14.00%\n",
            "Epoch: 83, Loss: 0.3494, Train: 42.86%, Valid: 16.40% Test: 14.40%\n",
            "Epoch: 84, Loss: 1.5039, Train: 44.29%, Valid: 14.60% Test: 13.40%\n",
            "Epoch: 85, Loss: 0.4315, Train: 43.57%, Valid: 13.80% Test: 12.50%\n",
            "Epoch: 86, Loss: 0.0285, Train: 43.57%, Valid: 14.20% Test: 13.20%\n",
            "Epoch: 87, Loss: 0.0293, Train: 42.86%, Valid: 14.60% Test: 13.30%\n",
            "Epoch: 88, Loss: 2.1695, Train: 45.00%, Valid: 15.60% Test: 13.50%\n",
            "Epoch: 89, Loss: 3.6320, Train: 45.00%, Valid: 15.20% Test: 13.10%\n",
            "Epoch: 90, Loss: 2.4117, Train: 45.00%, Valid: 13.00% Test: 12.30%\n",
            "Epoch: 91, Loss: 0.7403, Train: 46.43%, Valid: 13.60% Test: 12.10%\n",
            "Epoch: 92, Loss: 0.6951, Train: 46.43%, Valid: 15.00% Test: 13.50%\n",
            "Epoch: 93, Loss: 0.2325, Train: 45.71%, Valid: 15.60% Test: 14.00%\n",
            "Epoch: 94, Loss: 0.1734, Train: 45.71%, Valid: 15.40% Test: 14.10%\n",
            "Epoch: 95, Loss: 1.2861, Train: 46.43%, Valid: 17.20% Test: 15.70%\n",
            "Epoch: 96, Loss: 1.4566, Train: 46.43%, Valid: 17.40% Test: 16.10%\n",
            "Epoch: 97, Loss: 2.6301, Train: 49.29%, Valid: 19.00% Test: 16.80%\n",
            "Epoch: 98, Loss: 1.2784, Train: 46.43%, Valid: 19.00% Test: 16.40%\n",
            "Epoch: 99, Loss: 1.9500, Train: 47.86%, Valid: 19.00% Test: 16.80%\n",
            "Epoch: 100, Loss: 1.5224, Train: 52.14%, Valid: 18.40% Test: 16.60%\n",
            "Epoch: 101, Loss: 1.8248, Train: 52.86%, Valid: 17.20% Test: 15.20%\n",
            "Epoch: 102, Loss: 2.0179, Train: 52.86%, Valid: 18.40% Test: 14.60%\n",
            "Epoch: 103, Loss: 3.7587, Train: 54.29%, Valid: 17.20% Test: 14.00%\n",
            "Epoch: 104, Loss: 0.0975, Train: 55.00%, Valid: 16.20% Test: 13.60%\n",
            "Epoch: 105, Loss: 0.6760, Train: 54.29%, Valid: 16.00% Test: 13.70%\n",
            "Epoch: 106, Loss: 2.1775, Train: 55.00%, Valid: 16.00% Test: 14.10%\n",
            "Epoch: 107, Loss: 0.5395, Train: 55.00%, Valid: 15.60% Test: 13.50%\n",
            "Epoch: 108, Loss: 0.1568, Train: 54.29%, Valid: 14.60% Test: 12.70%\n",
            "Epoch: 109, Loss: 0.3571, Train: 50.71%, Valid: 14.40% Test: 13.70%\n",
            "Epoch: 110, Loss: 0.6299, Train: 51.43%, Valid: 15.80% Test: 13.70%\n",
            "Epoch: 111, Loss: 0.1375, Train: 52.14%, Valid: 15.80% Test: 13.50%\n",
            "Epoch: 112, Loss: 1.9150, Train: 49.29%, Valid: 16.80% Test: 13.40%\n",
            "Epoch: 113, Loss: 1.4796, Train: 50.00%, Valid: 17.00% Test: 13.30%\n",
            "Epoch: 114, Loss: 0.1538, Train: 51.43%, Valid: 17.20% Test: 13.20%\n",
            "Epoch: 115, Loss: 1.8750, Train: 51.43%, Valid: 18.00% Test: 12.90%\n",
            "Epoch: 116, Loss: 3.0006, Train: 54.29%, Valid: 17.80% Test: 13.60%\n",
            "Epoch: 117, Loss: 1.1094, Train: 53.57%, Valid: 18.00% Test: 13.40%\n",
            "Epoch: 118, Loss: 0.1008, Train: 54.29%, Valid: 17.40% Test: 14.00%\n",
            "Epoch: 119, Loss: 0.8399, Train: 53.57%, Valid: 16.80% Test: 13.70%\n",
            "Epoch: 120, Loss: 2.6857, Train: 52.86%, Valid: 17.00% Test: 13.50%\n",
            "Epoch: 121, Loss: 0.0012, Train: 53.57%, Valid: 16.40% Test: 14.00%\n",
            "Epoch: 122, Loss: 1.0786, Train: 55.00%, Valid: 16.40% Test: 13.70%\n",
            "Epoch: 123, Loss: 0.5433, Train: 55.71%, Valid: 16.20% Test: 13.60%\n",
            "Epoch: 124, Loss: 3.0607, Train: 55.00%, Valid: 14.40% Test: 13.20%\n",
            "Epoch: 125, Loss: 2.3221, Train: 55.00%, Valid: 14.20% Test: 13.50%\n",
            "Epoch: 126, Loss: 2.3578, Train: 55.71%, Valid: 13.40% Test: 13.70%\n",
            "Epoch: 127, Loss: 0.0075, Train: 57.86%, Valid: 11.80% Test: 12.80%\n",
            "Epoch: 128, Loss: 1.2766, Train: 57.14%, Valid: 12.20% Test: 12.70%\n",
            "Epoch: 129, Loss: 0.3434, Train: 59.29%, Valid: 11.20% Test: 12.20%\n",
            "Epoch: 130, Loss: 0.0788, Train: 58.57%, Valid: 10.80% Test: 11.60%\n",
            "Epoch: 131, Loss: 0.0007, Train: 57.86%, Valid: 10.60% Test: 11.00%\n",
            "Epoch: 132, Loss: 0.0085, Train: 57.14%, Valid: 11.00% Test: 9.60%\n",
            "Epoch: 133, Loss: 0.0512, Train: 57.14%, Valid: 10.20% Test: 9.70%\n",
            "Epoch: 134, Loss: 0.0788, Train: 56.43%, Valid: 10.80% Test: 9.70%\n",
            "Epoch: 135, Loss: 0.4162, Train: 55.71%, Valid: 9.80% Test: 9.90%\n",
            "Epoch: 136, Loss: 0.0019, Train: 53.57%, Valid: 10.20% Test: 9.80%\n",
            "Epoch: 137, Loss: 0.3584, Train: 53.57%, Valid: 9.80% Test: 9.80%\n",
            "Epoch: 138, Loss: 1.7046, Train: 54.29%, Valid: 8.80% Test: 9.80%\n",
            "Epoch: 139, Loss: 1.1443, Train: 54.29%, Valid: 9.20% Test: 10.20%\n",
            "Epoch: 140, Loss: 0.0013, Train: 55.71%, Valid: 9.20% Test: 10.40%\n",
            "Epoch: 141, Loss: 2.7882, Train: 56.43%, Valid: 10.80% Test: 11.20%\n",
            "Epoch: 142, Loss: 0.2427, Train: 55.71%, Valid: 11.20% Test: 12.50%\n",
            "Epoch: 143, Loss: 2.4289, Train: 55.71%, Valid: 11.20% Test: 14.10%\n",
            "Epoch: 144, Loss: 0.4349, Train: 56.43%, Valid: 13.20% Test: 14.50%\n",
            "Epoch: 145, Loss: 2.6615, Train: 56.43%, Valid: 16.80% Test: 17.60%\n",
            "Epoch: 146, Loss: 1.8904, Train: 57.86%, Valid: 17.40% Test: 17.50%\n",
            "Epoch: 147, Loss: 0.4159, Train: 55.71%, Valid: 17.20% Test: 17.20%\n",
            "Epoch: 148, Loss: 0.1479, Train: 58.57%, Valid: 16.80% Test: 16.30%\n",
            "Epoch: 149, Loss: 5.0325, Train: 57.86%, Valid: 17.40% Test: 16.80%\n",
            "Epoch: 150, Loss: 1.9160, Train: 59.29%, Valid: 16.60% Test: 15.60%\n",
            "Best model: Train: 20.00%, Valid: 30.40% Test: 27.60%\n"
          ]
        }
      ],
      "source": [
        "model = GNN(graph_train.num_node_features, args['hidden_size'], graph_train.num_node_labels, args).to(args['device'])\n",
        "optimizer = torch.optim.Adam(model.parameters(), lr=args['lr'])\n",
        "louvain_best_model, louvain_accs = train(graphs, [graph_train, graph_val, graph_test], args, model, optimizer, mode=\"community\")\n",
        "train_acc, val_acc, test_acc = test([graph_train, graph_val, graph_test], louvain_best_model)\n",
        "print('Best model:',\n",
        "      f'Train: {100 * train_acc:.2f}%, '\n",
        "      f'Valid: {100 * val_acc:.2f}% '\n",
        "      f'Test: {100 * test_acc:.2f}%')"
      ]
    },
    {
      "cell_type": "markdown",
      "metadata": {
        "id": "6CvTf0ANVO9U"
      },
      "source": [
        "## Bisection Preprocess"
      ]
    },
    {
      "cell_type": "code",
      "execution_count": 35,
      "metadata": {
        "id": "HkV0zlhgVJ7u",
        "colab": {
          "base_uri": "https://localhost:8080/"
        },
        "outputId": "0222b852-f6b5-43b8-a53e-5978db14857d"
      },
      "outputs": [
        {
          "output_type": "stream",
          "name": "stdout",
          "text": [
            "Index fields: val_mask ignored.\n",
            "Index fields: train_mask ignored.\n",
            "Index fields: test_mask ignored.\n",
            "Partition the graph in to 2 communities\n",
            "Each community has 1354 nodes in average\n",
            "Each community has 2418 edges in average\n"
          ]
        }
      ],
      "source": [
        "graphs_train, graphs_val, graphs_test = \\\n",
        "    GraphDataset.pyg_to_graphs(pyg_dataset, verbose=True, fixed_split=True)\n",
        "\n",
        "graph_train = graphs_train[0]\n",
        "graph_val = graphs_val[0]\n",
        "graph_test = graphs_test[0]\n",
        "graphs = preprocess(graph_train.G, graph_train.node_label_index, method=\"bisection\")\n",
        "print(\"Partition the graph in to {} communities\".format(len(graphs)))\n",
        "avg_num_nodes = 0\n",
        "avg_num_edges = 0\n",
        "for graph in graphs:\n",
        "    avg_num_nodes += graph.num_nodes\n",
        "    avg_num_edges += graph.num_edges\n",
        "avg_num_nodes = int(avg_num_nodes / len(graphs))\n",
        "avg_num_edges = int(avg_num_edges / len(graphs))\n",
        "print(\"Each community has {} nodes in average\".format(avg_num_nodes))\n",
        "print(\"Each community has {} edges in average\".format(avg_num_edges))"
      ]
    },
    {
      "cell_type": "markdown",
      "metadata": {
        "id": "IqMCvP8wVVms"
      },
      "source": [
        "## Bisection Training"
      ]
    },
    {
      "cell_type": "code",
      "execution_count": 36,
      "metadata": {
        "id": "k1wgFg1bVRGY",
        "colab": {
          "base_uri": "https://localhost:8080/"
        },
        "outputId": "1a30d0e3-d830-4e9b-ac24-9cfd3a88412f"
      },
      "outputs": [
        {
          "output_type": "stream",
          "name": "stdout",
          "text": [
            "Epoch: 01, Loss: 2.1001, Train: 45.00%, Valid: 36.40% Test: 38.10%\n",
            "Epoch: 02, Loss: 2.0077, Train: 65.00%, Valid: 41.00% Test: 43.40%\n",
            "Epoch: 03, Loss: 1.3235, Train: 75.00%, Valid: 42.60% Test: 45.60%\n",
            "Epoch: 04, Loss: 0.9647, Train: 89.29%, Valid: 47.40% Test: 50.20%\n",
            "Epoch: 05, Loss: 0.7085, Train: 97.86%, Valid: 58.80% Test: 61.30%\n",
            "Epoch: 06, Loss: 0.4649, Train: 99.29%, Valid: 64.40% Test: 68.50%\n",
            "Epoch: 07, Loss: 0.2484, Train: 99.29%, Valid: 69.80% Test: 72.80%\n",
            "Epoch: 08, Loss: 0.1897, Train: 99.29%, Valid: 72.00% Test: 74.40%\n",
            "Epoch: 09, Loss: 0.1150, Train: 99.29%, Valid: 73.40% Test: 74.90%\n",
            "Epoch: 10, Loss: 0.0905, Train: 99.29%, Valid: 73.00% Test: 75.10%\n",
            "Epoch: 11, Loss: 0.0495, Train: 100.00%, Valid: 72.60% Test: 75.40%\n",
            "Epoch: 12, Loss: 0.0188, Train: 100.00%, Valid: 72.80% Test: 75.50%\n",
            "Epoch: 13, Loss: 0.0292, Train: 100.00%, Valid: 73.00% Test: 75.50%\n",
            "Epoch: 14, Loss: 0.0182, Train: 100.00%, Valid: 72.60% Test: 75.70%\n",
            "Epoch: 15, Loss: 0.0187, Train: 100.00%, Valid: 73.20% Test: 75.50%\n",
            "Epoch: 16, Loss: 0.0129, Train: 100.00%, Valid: 73.00% Test: 75.00%\n",
            "Epoch: 17, Loss: 0.0069, Train: 100.00%, Valid: 73.40% Test: 74.60%\n",
            "Epoch: 18, Loss: 0.0051, Train: 100.00%, Valid: 73.60% Test: 74.50%\n",
            "Epoch: 19, Loss: 0.0035, Train: 100.00%, Valid: 73.40% Test: 74.60%\n",
            "Epoch: 20, Loss: 0.0019, Train: 100.00%, Valid: 73.20% Test: 74.90%\n",
            "Epoch: 21, Loss: 0.0042, Train: 100.00%, Valid: 73.40% Test: 74.90%\n",
            "Epoch: 22, Loss: 0.0018, Train: 100.00%, Valid: 73.60% Test: 74.70%\n",
            "Epoch: 23, Loss: 0.0052, Train: 100.00%, Valid: 73.20% Test: 74.70%\n",
            "Epoch: 24, Loss: 0.0016, Train: 100.00%, Valid: 73.20% Test: 74.70%\n",
            "Epoch: 25, Loss: 0.0004, Train: 100.00%, Valid: 73.20% Test: 75.00%\n",
            "Epoch: 26, Loss: 0.0009, Train: 100.00%, Valid: 73.20% Test: 75.10%\n",
            "Epoch: 27, Loss: 0.0016, Train: 100.00%, Valid: 73.00% Test: 75.10%\n",
            "Epoch: 28, Loss: 0.0020, Train: 100.00%, Valid: 73.40% Test: 75.30%\n",
            "Epoch: 29, Loss: 0.0007, Train: 100.00%, Valid: 73.20% Test: 75.70%\n",
            "Epoch: 30, Loss: 0.0043, Train: 100.00%, Valid: 73.40% Test: 75.70%\n",
            "Epoch: 31, Loss: 0.0003, Train: 100.00%, Valid: 73.20% Test: 75.70%\n",
            "Epoch: 32, Loss: 0.0053, Train: 100.00%, Valid: 73.60% Test: 75.30%\n",
            "Epoch: 33, Loss: 0.0009, Train: 100.00%, Valid: 73.40% Test: 75.60%\n",
            "Epoch: 34, Loss: 0.0017, Train: 100.00%, Valid: 73.60% Test: 75.40%\n",
            "Epoch: 35, Loss: 0.0004, Train: 100.00%, Valid: 73.40% Test: 75.50%\n",
            "Epoch: 36, Loss: 0.0005, Train: 100.00%, Valid: 73.00% Test: 75.30%\n",
            "Epoch: 37, Loss: 0.0135, Train: 100.00%, Valid: 72.80% Test: 75.40%\n",
            "Epoch: 38, Loss: 0.0004, Train: 100.00%, Valid: 72.80% Test: 75.50%\n",
            "Epoch: 39, Loss: 0.0003, Train: 100.00%, Valid: 73.00% Test: 75.60%\n",
            "Epoch: 40, Loss: 0.0003, Train: 100.00%, Valid: 73.20% Test: 75.50%\n",
            "Epoch: 41, Loss: 0.0003, Train: 100.00%, Valid: 73.00% Test: 75.50%\n",
            "Epoch: 42, Loss: 0.0003, Train: 100.00%, Valid: 72.80% Test: 75.10%\n",
            "Epoch: 43, Loss: 0.0003, Train: 100.00%, Valid: 72.80% Test: 75.10%\n",
            "Epoch: 44, Loss: 0.0001, Train: 100.00%, Valid: 73.00% Test: 75.20%\n",
            "Epoch: 45, Loss: 0.0011, Train: 100.00%, Valid: 73.20% Test: 75.20%\n",
            "Epoch: 46, Loss: 0.0001, Train: 100.00%, Valid: 73.00% Test: 75.10%\n",
            "Epoch: 47, Loss: 0.0016, Train: 100.00%, Valid: 73.00% Test: 75.10%\n",
            "Epoch: 48, Loss: 0.0001, Train: 100.00%, Valid: 73.00% Test: 75.10%\n",
            "Epoch: 49, Loss: 0.0003, Train: 100.00%, Valid: 73.00% Test: 75.30%\n",
            "Epoch: 50, Loss: 0.0002, Train: 100.00%, Valid: 72.60% Test: 75.10%\n",
            "Epoch: 51, Loss: 0.0004, Train: 100.00%, Valid: 72.80% Test: 75.20%\n",
            "Epoch: 52, Loss: 0.0006, Train: 100.00%, Valid: 73.00% Test: 75.10%\n",
            "Epoch: 53, Loss: 0.0002, Train: 100.00%, Valid: 72.80% Test: 75.10%\n",
            "Epoch: 54, Loss: 0.0003, Train: 100.00%, Valid: 72.80% Test: 75.30%\n",
            "Epoch: 55, Loss: 0.0003, Train: 100.00%, Valid: 72.80% Test: 75.10%\n",
            "Epoch: 56, Loss: 0.0001, Train: 100.00%, Valid: 73.20% Test: 75.20%\n",
            "Epoch: 57, Loss: 0.0003, Train: 100.00%, Valid: 73.60% Test: 75.10%\n",
            "Epoch: 58, Loss: 0.0003, Train: 100.00%, Valid: 73.00% Test: 75.20%\n",
            "Epoch: 59, Loss: 0.0000, Train: 100.00%, Valid: 72.80% Test: 75.30%\n",
            "Epoch: 60, Loss: 0.0011, Train: 100.00%, Valid: 73.00% Test: 75.20%\n",
            "Epoch: 61, Loss: 0.0002, Train: 100.00%, Valid: 72.80% Test: 75.20%\n",
            "Epoch: 62, Loss: 0.0061, Train: 100.00%, Valid: 72.80% Test: 75.20%\n",
            "Epoch: 63, Loss: 0.0005, Train: 100.00%, Valid: 73.20% Test: 75.10%\n",
            "Epoch: 64, Loss: 0.0002, Train: 100.00%, Valid: 73.60% Test: 75.30%\n",
            "Epoch: 65, Loss: 0.0001, Train: 100.00%, Valid: 73.20% Test: 75.30%\n",
            "Epoch: 66, Loss: 0.0003, Train: 100.00%, Valid: 73.40% Test: 75.10%\n",
            "Epoch: 67, Loss: 0.0002, Train: 100.00%, Valid: 73.20% Test: 75.20%\n",
            "Epoch: 68, Loss: 0.0010, Train: 100.00%, Valid: 73.20% Test: 75.30%\n",
            "Epoch: 69, Loss: 0.0000, Train: 100.00%, Valid: 73.00% Test: 75.20%\n",
            "Epoch: 70, Loss: 0.0001, Train: 100.00%, Valid: 73.20% Test: 75.20%\n",
            "Epoch: 71, Loss: 0.0000, Train: 100.00%, Valid: 73.40% Test: 75.10%\n",
            "Epoch: 72, Loss: 0.0004, Train: 100.00%, Valid: 73.00% Test: 75.20%\n",
            "Epoch: 73, Loss: 0.0008, Train: 100.00%, Valid: 73.00% Test: 75.20%\n",
            "Epoch: 74, Loss: 0.0003, Train: 100.00%, Valid: 73.20% Test: 75.20%\n",
            "Epoch: 75, Loss: 0.0003, Train: 100.00%, Valid: 72.80% Test: 75.10%\n",
            "Epoch: 76, Loss: 0.0002, Train: 100.00%, Valid: 73.00% Test: 75.30%\n",
            "Epoch: 77, Loss: 0.0003, Train: 100.00%, Valid: 72.80% Test: 75.30%\n",
            "Epoch: 78, Loss: 0.0001, Train: 100.00%, Valid: 73.00% Test: 75.20%\n",
            "Epoch: 79, Loss: 0.0003, Train: 100.00%, Valid: 72.80% Test: 75.30%\n",
            "Epoch: 80, Loss: 0.0001, Train: 100.00%, Valid: 73.00% Test: 74.90%\n",
            "Epoch: 81, Loss: 0.0002, Train: 100.00%, Valid: 73.00% Test: 74.60%\n",
            "Epoch: 82, Loss: 0.0000, Train: 100.00%, Valid: 72.80% Test: 74.60%\n",
            "Epoch: 83, Loss: 0.0003, Train: 100.00%, Valid: 73.20% Test: 74.70%\n",
            "Epoch: 84, Loss: 0.0001, Train: 100.00%, Valid: 72.80% Test: 74.60%\n",
            "Epoch: 85, Loss: 0.0003, Train: 100.00%, Valid: 73.00% Test: 74.80%\n",
            "Epoch: 86, Loss: 0.0001, Train: 100.00%, Valid: 72.60% Test: 74.80%\n",
            "Epoch: 87, Loss: 0.0001, Train: 100.00%, Valid: 73.00% Test: 74.80%\n",
            "Epoch: 88, Loss: 0.0001, Train: 100.00%, Valid: 73.00% Test: 75.00%\n",
            "Epoch: 89, Loss: 0.0001, Train: 100.00%, Valid: 73.20% Test: 75.10%\n",
            "Epoch: 90, Loss: 0.0002, Train: 100.00%, Valid: 73.00% Test: 74.80%\n",
            "Epoch: 91, Loss: 0.0000, Train: 100.00%, Valid: 72.60% Test: 74.70%\n",
            "Epoch: 92, Loss: 0.0001, Train: 100.00%, Valid: 73.00% Test: 74.80%\n",
            "Epoch: 93, Loss: 0.0003, Train: 100.00%, Valid: 72.60% Test: 74.70%\n",
            "Epoch: 94, Loss: 0.0002, Train: 100.00%, Valid: 73.20% Test: 74.70%\n",
            "Epoch: 95, Loss: 0.0000, Train: 100.00%, Valid: 72.80% Test: 74.50%\n",
            "Epoch: 96, Loss: 0.0016, Train: 100.00%, Valid: 72.80% Test: 74.60%\n",
            "Epoch: 97, Loss: 0.0002, Train: 100.00%, Valid: 73.00% Test: 74.50%\n",
            "Epoch: 98, Loss: 0.0003, Train: 100.00%, Valid: 72.60% Test: 74.70%\n",
            "Epoch: 99, Loss: 0.0002, Train: 100.00%, Valid: 72.60% Test: 74.60%\n",
            "Epoch: 100, Loss: 0.0001, Train: 100.00%, Valid: 72.40% Test: 74.70%\n",
            "Epoch: 101, Loss: 0.0001, Train: 100.00%, Valid: 72.60% Test: 74.60%\n",
            "Epoch: 102, Loss: 0.0004, Train: 100.00%, Valid: 72.40% Test: 74.70%\n",
            "Epoch: 103, Loss: 0.0000, Train: 100.00%, Valid: 72.60% Test: 74.60%\n",
            "Epoch: 104, Loss: 0.0001, Train: 100.00%, Valid: 72.20% Test: 74.60%\n",
            "Epoch: 105, Loss: 0.0002, Train: 100.00%, Valid: 72.40% Test: 74.40%\n",
            "Epoch: 106, Loss: 0.0000, Train: 100.00%, Valid: 72.40% Test: 74.60%\n",
            "Epoch: 107, Loss: 0.0027, Train: 100.00%, Valid: 72.40% Test: 74.40%\n",
            "Epoch: 108, Loss: 0.0001, Train: 100.00%, Valid: 72.80% Test: 74.70%\n",
            "Epoch: 109, Loss: 0.0000, Train: 100.00%, Valid: 72.40% Test: 74.90%\n",
            "Epoch: 110, Loss: 0.0002, Train: 100.00%, Valid: 72.80% Test: 74.90%\n",
            "Epoch: 111, Loss: 0.0000, Train: 100.00%, Valid: 72.80% Test: 74.80%\n",
            "Epoch: 112, Loss: 0.0006, Train: 100.00%, Valid: 72.80% Test: 74.60%\n",
            "Epoch: 113, Loss: 0.0002, Train: 100.00%, Valid: 72.80% Test: 74.70%\n",
            "Epoch: 114, Loss: 0.0001, Train: 100.00%, Valid: 73.00% Test: 74.70%\n",
            "Epoch: 115, Loss: 0.0001, Train: 100.00%, Valid: 73.00% Test: 74.60%\n",
            "Epoch: 116, Loss: 0.0003, Train: 100.00%, Valid: 72.80% Test: 74.70%\n",
            "Epoch: 117, Loss: 0.0001, Train: 100.00%, Valid: 72.40% Test: 74.60%\n",
            "Epoch: 118, Loss: 0.0035, Train: 100.00%, Valid: 72.20% Test: 74.50%\n",
            "Epoch: 119, Loss: 0.0000, Train: 100.00%, Valid: 72.20% Test: 74.70%\n",
            "Epoch: 120, Loss: 0.0002, Train: 100.00%, Valid: 72.40% Test: 74.70%\n",
            "Epoch: 121, Loss: 0.0004, Train: 100.00%, Valid: 72.40% Test: 74.70%\n",
            "Epoch: 122, Loss: 0.0001, Train: 100.00%, Valid: 72.40% Test: 74.60%\n",
            "Epoch: 123, Loss: 0.0000, Train: 100.00%, Valid: 72.40% Test: 74.70%\n",
            "Epoch: 124, Loss: 0.0001, Train: 100.00%, Valid: 72.40% Test: 74.70%\n",
            "Epoch: 125, Loss: 0.0001, Train: 100.00%, Valid: 72.00% Test: 74.70%\n",
            "Epoch: 126, Loss: 0.0001, Train: 100.00%, Valid: 72.20% Test: 74.80%\n",
            "Epoch: 127, Loss: 0.0001, Train: 100.00%, Valid: 72.00% Test: 75.00%\n",
            "Epoch: 128, Loss: 0.0000, Train: 100.00%, Valid: 72.40% Test: 74.90%\n",
            "Epoch: 129, Loss: 0.0000, Train: 100.00%, Valid: 72.40% Test: 74.80%\n",
            "Epoch: 130, Loss: 0.0000, Train: 100.00%, Valid: 72.40% Test: 74.90%\n",
            "Epoch: 131, Loss: 0.0003, Train: 100.00%, Valid: 72.20% Test: 74.90%\n",
            "Epoch: 132, Loss: 0.0000, Train: 100.00%, Valid: 72.60% Test: 74.90%\n",
            "Epoch: 133, Loss: 0.0005, Train: 100.00%, Valid: 72.80% Test: 74.80%\n",
            "Epoch: 134, Loss: 0.0001, Train: 100.00%, Valid: 72.60% Test: 75.00%\n",
            "Epoch: 135, Loss: 0.0001, Train: 100.00%, Valid: 72.20% Test: 74.90%\n",
            "Epoch: 136, Loss: 0.0002, Train: 100.00%, Valid: 72.20% Test: 74.90%\n",
            "Epoch: 137, Loss: 0.0003, Train: 100.00%, Valid: 72.20% Test: 74.70%\n",
            "Epoch: 138, Loss: 0.0001, Train: 100.00%, Valid: 72.00% Test: 74.90%\n",
            "Epoch: 139, Loss: 0.0001, Train: 100.00%, Valid: 71.80% Test: 74.70%\n",
            "Epoch: 140, Loss: 0.0002, Train: 100.00%, Valid: 72.20% Test: 74.70%\n",
            "Epoch: 141, Loss: 0.0010, Train: 100.00%, Valid: 72.20% Test: 74.80%\n",
            "Epoch: 142, Loss: 0.0001, Train: 100.00%, Valid: 72.20% Test: 74.80%\n",
            "Epoch: 143, Loss: 0.0001, Train: 100.00%, Valid: 72.60% Test: 74.80%\n",
            "Epoch: 144, Loss: 0.0001, Train: 100.00%, Valid: 72.40% Test: 74.80%\n",
            "Epoch: 145, Loss: 0.0017, Train: 100.00%, Valid: 72.20% Test: 74.80%\n",
            "Epoch: 146, Loss: 0.0001, Train: 100.00%, Valid: 72.40% Test: 74.70%\n",
            "Epoch: 147, Loss: 0.0001, Train: 100.00%, Valid: 72.20% Test: 74.80%\n",
            "Epoch: 148, Loss: 0.0001, Train: 100.00%, Valid: 72.20% Test: 74.70%\n",
            "Epoch: 149, Loss: 0.0001, Train: 100.00%, Valid: 72.20% Test: 74.60%\n",
            "Epoch: 150, Loss: 0.0001, Train: 100.00%, Valid: 71.80% Test: 74.70%\n",
            "Best model: Train: 100.00%, Valid: 73.60% Test: 74.50%\n"
          ]
        }
      ],
      "source": [
        "model = GNN(graph_train.num_node_features, args['hidden_size'], graph_train.num_node_labels, args).to(args['device'])\n",
        "optimizer = torch.optim.Adam(model.parameters(), lr=args['lr'])\n",
        "bisection_best_model, bisection_accs = train(graphs, [graph_train, graph_val, graph_test], args, model, optimizer, mode=\"community\")\n",
        "train_acc, val_acc, test_acc = test([graph_train, graph_val, graph_test], bisection_best_model)\n",
        "print('Best model:',\n",
        "      f'Train: {100 * train_acc:.2f}%, '\n",
        "      f'Valid: {100 * val_acc:.2f}% '\n",
        "      f'Test: {100 * test_acc:.2f}%')"
      ]
    },
    {
      "cell_type": "markdown",
      "metadata": {
        "id": "5PROPwoOVcJy"
      },
      "source": [
        "## Greedy Preprocess"
      ]
    },
    {
      "cell_type": "code",
      "execution_count": 37,
      "metadata": {
        "id": "h3DVamWqVT92",
        "colab": {
          "base_uri": "https://localhost:8080/"
        },
        "outputId": "fa8553d8-eb98-41e3-a0d7-58818e6323c9"
      },
      "outputs": [
        {
          "output_type": "stream",
          "name": "stdout",
          "text": [
            "Index fields: val_mask ignored.\n",
            "Index fields: train_mask ignored.\n",
            "Index fields: test_mask ignored.\n",
            "Partition the graph in to 20 communities\n",
            "Each community has 121 nodes in average\n",
            "Each community has 222 edges in average\n"
          ]
        }
      ],
      "source": [
        "graphs_train, graphs_val, graphs_test = \\\n",
        "    GraphDataset.pyg_to_graphs(pyg_dataset, verbose=True, fixed_split=True)\n",
        "\n",
        "graph_train = graphs_train[0]\n",
        "graph_val = graphs_val[0]\n",
        "graph_test = graphs_test[0]\n",
        "graphs = preprocess(graph_train.G, graph_train.node_label_index, method=\"greedy\")\n",
        "print(\"Partition the graph in to {} communities\".format(len(graphs)))\n",
        "avg_num_nodes = 0\n",
        "avg_num_edges = 0\n",
        "for graph in graphs:\n",
        "    avg_num_nodes += graph.num_nodes\n",
        "    avg_num_edges += graph.num_edges\n",
        "avg_num_nodes = int(avg_num_nodes / len(graphs))\n",
        "avg_num_edges = int(avg_num_edges / len(graphs))\n",
        "print(\"Each community has {} nodes in average\".format(avg_num_nodes))\n",
        "print(\"Each community has {} edges in average\".format(avg_num_edges))"
      ]
    },
    {
      "cell_type": "markdown",
      "metadata": {
        "id": "93pR_-kxVgma"
      },
      "source": [
        "## Greedy Training"
      ]
    },
    {
      "cell_type": "code",
      "execution_count": 38,
      "metadata": {
        "id": "lQgQY-jPVd_U",
        "colab": {
          "base_uri": "https://localhost:8080/"
        },
        "outputId": "f93cfcac-92d5-48fe-d42f-adcdd005d604"
      },
      "outputs": [
        {
          "output_type": "stream",
          "name": "stdout",
          "text": [
            "Epoch: 01, Loss: 1.8748, Train: 15.71%, Valid: 16.40% Test: 16.10%\n",
            "Epoch: 02, Loss: 1.6334, Train: 17.14%, Valid: 16.00% Test: 14.50%\n",
            "Epoch: 03, Loss: 2.2882, Train: 20.00%, Valid: 14.60% Test: 13.60%\n",
            "Epoch: 04, Loss: 2.9492, Train: 20.71%, Valid: 11.80% Test: 12.20%\n",
            "Epoch: 05, Loss: 3.0983, Train: 17.14%, Valid: 10.80% Test: 10.90%\n",
            "Epoch: 06, Loss: 1.3297, Train: 15.71%, Valid: 9.80% Test: 9.00%\n",
            "Epoch: 07, Loss: 1.3174, Train: 15.71%, Valid: 9.60% Test: 10.20%\n",
            "Epoch: 08, Loss: 2.1272, Train: 18.57%, Valid: 12.80% Test: 12.90%\n",
            "Epoch: 09, Loss: 2.4200, Train: 22.14%, Valid: 15.60% Test: 16.50%\n",
            "Epoch: 10, Loss: 0.1177, Train: 24.29%, Valid: 17.80% Test: 19.40%\n",
            "Epoch: 11, Loss: 3.6663, Train: 26.43%, Valid: 15.60% Test: 18.70%\n",
            "Epoch: 12, Loss: 1.9904, Train: 28.57%, Valid: 13.40% Test: 16.70%\n",
            "Epoch: 13, Loss: 2.1488, Train: 34.29%, Valid: 14.20% Test: 16.50%\n",
            "Epoch: 14, Loss: 2.6080, Train: 38.57%, Valid: 13.00% Test: 16.30%\n",
            "Epoch: 15, Loss: 0.7635, Train: 47.86%, Valid: 12.80% Test: 17.60%\n",
            "Epoch: 16, Loss: 1.1497, Train: 47.86%, Valid: 13.00% Test: 16.40%\n",
            "Epoch: 17, Loss: 1.1466, Train: 45.00%, Valid: 15.60% Test: 16.80%\n",
            "Epoch: 18, Loss: 0.7977, Train: 37.14%, Valid: 14.40% Test: 17.10%\n",
            "Epoch: 19, Loss: 2.1835, Train: 41.43%, Valid: 13.80% Test: 17.30%\n",
            "Epoch: 20, Loss: 1.4388, Train: 41.43%, Valid: 13.40% Test: 17.10%\n",
            "Epoch: 21, Loss: 3.2481, Train: 38.57%, Valid: 13.20% Test: 17.40%\n",
            "Epoch: 22, Loss: 0.0230, Train: 39.29%, Valid: 13.20% Test: 18.40%\n",
            "Epoch: 23, Loss: 0.6825, Train: 40.00%, Valid: 13.00% Test: 17.00%\n",
            "Epoch: 24, Loss: 2.2744, Train: 39.29%, Valid: 13.60% Test: 17.30%\n",
            "Epoch: 25, Loss: 2.5677, Train: 42.14%, Valid: 13.80% Test: 18.10%\n",
            "Epoch: 26, Loss: 0.3526, Train: 42.14%, Valid: 13.40% Test: 17.90%\n",
            "Epoch: 27, Loss: 0.5037, Train: 47.86%, Valid: 14.00% Test: 18.40%\n",
            "Epoch: 28, Loss: 1.7986, Train: 52.14%, Valid: 13.80% Test: 18.80%\n",
            "Epoch: 29, Loss: 1.2278, Train: 53.57%, Valid: 15.00% Test: 19.70%\n",
            "Epoch: 30, Loss: 0.4029, Train: 55.71%, Valid: 16.00% Test: 20.20%\n",
            "Epoch: 31, Loss: 1.4087, Train: 60.71%, Valid: 17.60% Test: 21.80%\n",
            "Epoch: 32, Loss: 0.0484, Train: 65.00%, Valid: 19.60% Test: 22.40%\n",
            "Epoch: 33, Loss: 2.7642, Train: 66.43%, Valid: 21.20% Test: 23.10%\n",
            "Epoch: 34, Loss: 0.2249, Train: 67.86%, Valid: 23.40% Test: 24.60%\n",
            "Epoch: 35, Loss: 0.9079, Train: 70.71%, Valid: 24.20% Test: 24.10%\n",
            "Epoch: 36, Loss: 0.0052, Train: 71.43%, Valid: 24.20% Test: 24.40%\n",
            "Epoch: 37, Loss: 0.4467, Train: 70.71%, Valid: 23.60% Test: 22.70%\n",
            "Epoch: 38, Loss: 0.6327, Train: 70.71%, Valid: 22.80% Test: 22.40%\n",
            "Epoch: 39, Loss: 0.6112, Train: 70.71%, Valid: 22.00% Test: 21.40%\n",
            "Epoch: 40, Loss: 2.0062, Train: 71.43%, Valid: 21.20% Test: 21.30%\n",
            "Epoch: 41, Loss: 0.0660, Train: 72.14%, Valid: 21.00% Test: 21.40%\n",
            "Epoch: 42, Loss: 0.5686, Train: 72.14%, Valid: 21.20% Test: 21.20%\n",
            "Epoch: 43, Loss: 0.4813, Train: 74.29%, Valid: 21.40% Test: 22.20%\n",
            "Epoch: 44, Loss: 0.0575, Train: 75.00%, Valid: 21.20% Test: 23.40%\n",
            "Epoch: 45, Loss: 2.9328, Train: 75.71%, Valid: 22.40% Test: 24.70%\n",
            "Epoch: 46, Loss: 0.2050, Train: 77.86%, Valid: 21.60% Test: 24.70%\n",
            "Epoch: 47, Loss: 0.0018, Train: 74.29%, Valid: 21.20% Test: 25.40%\n",
            "Epoch: 48, Loss: 1.3322, Train: 75.71%, Valid: 21.60% Test: 26.20%\n",
            "Epoch: 49, Loss: 0.6023, Train: 77.14%, Valid: 21.60% Test: 26.60%\n",
            "Epoch: 50, Loss: 0.8332, Train: 78.57%, Valid: 23.60% Test: 27.40%\n",
            "Epoch: 51, Loss: 0.1839, Train: 75.71%, Valid: 22.80% Test: 27.50%\n",
            "Epoch: 52, Loss: 0.5337, Train: 75.00%, Valid: 23.60% Test: 27.90%\n",
            "Epoch: 53, Loss: 0.1314, Train: 75.00%, Valid: 24.20% Test: 28.50%\n",
            "Epoch: 54, Loss: 0.6570, Train: 73.57%, Valid: 24.20% Test: 28.40%\n",
            "Epoch: 55, Loss: 1.0550, Train: 77.14%, Valid: 24.40% Test: 28.20%\n",
            "Epoch: 56, Loss: 0.9080, Train: 80.00%, Valid: 23.80% Test: 28.00%\n",
            "Epoch: 57, Loss: 0.1476, Train: 80.00%, Valid: 23.60% Test: 28.20%\n",
            "Epoch: 58, Loss: 0.0110, Train: 80.00%, Valid: 22.80% Test: 27.70%\n",
            "Epoch: 59, Loss: 0.6557, Train: 82.86%, Valid: 23.40% Test: 27.00%\n",
            "Epoch: 60, Loss: 0.0002, Train: 83.57%, Valid: 23.60% Test: 27.50%\n",
            "Epoch: 61, Loss: 0.0143, Train: 84.29%, Valid: 23.40% Test: 27.60%\n",
            "Epoch: 62, Loss: 2.0197, Train: 85.00%, Valid: 23.80% Test: 28.00%\n",
            "Epoch: 63, Loss: 0.0001, Train: 86.43%, Valid: 24.00% Test: 27.80%\n",
            "Epoch: 64, Loss: 0.0390, Train: 87.86%, Valid: 24.20% Test: 27.70%\n",
            "Epoch: 65, Loss: 0.3838, Train: 87.86%, Valid: 23.40% Test: 28.10%\n",
            "Epoch: 66, Loss: 0.1370, Train: 87.86%, Valid: 22.00% Test: 26.20%\n",
            "Epoch: 67, Loss: 0.0267, Train: 87.86%, Valid: 22.60% Test: 26.40%\n",
            "Epoch: 68, Loss: 0.0047, Train: 88.57%, Valid: 22.80% Test: 26.70%\n",
            "Epoch: 69, Loss: 0.0310, Train: 88.57%, Valid: 22.20% Test: 26.10%\n",
            "Epoch: 70, Loss: 0.0162, Train: 88.57%, Valid: 22.20% Test: 26.60%\n",
            "Epoch: 71, Loss: 0.0473, Train: 88.57%, Valid: 22.40% Test: 26.70%\n",
            "Epoch: 72, Loss: 0.3626, Train: 88.57%, Valid: 22.60% Test: 27.40%\n",
            "Epoch: 73, Loss: 0.1002, Train: 88.57%, Valid: 23.20% Test: 27.30%\n",
            "Epoch: 74, Loss: 0.2757, Train: 88.57%, Valid: 23.00% Test: 27.10%\n",
            "Epoch: 75, Loss: 0.0022, Train: 88.57%, Valid: 23.40% Test: 27.80%\n",
            "Epoch: 76, Loss: 0.0682, Train: 88.57%, Valid: 24.20% Test: 28.60%\n",
            "Epoch: 77, Loss: 0.2765, Train: 89.29%, Valid: 24.40% Test: 28.20%\n",
            "Epoch: 78, Loss: 0.1107, Train: 88.57%, Valid: 24.60% Test: 27.50%\n",
            "Epoch: 79, Loss: 0.2604, Train: 88.57%, Valid: 23.80% Test: 27.70%\n",
            "Epoch: 80, Loss: 0.0142, Train: 88.57%, Valid: 24.80% Test: 28.00%\n",
            "Epoch: 81, Loss: 0.2461, Train: 88.57%, Valid: 24.00% Test: 27.70%\n",
            "Epoch: 82, Loss: 0.1882, Train: 89.29%, Valid: 24.80% Test: 27.70%\n",
            "Epoch: 83, Loss: 0.5994, Train: 89.29%, Valid: 26.40% Test: 29.00%\n",
            "Epoch: 84, Loss: 0.0232, Train: 89.29%, Valid: 26.00% Test: 29.70%\n",
            "Epoch: 85, Loss: 0.0433, Train: 89.29%, Valid: 27.40% Test: 30.80%\n",
            "Epoch: 86, Loss: 0.0156, Train: 89.29%, Valid: 26.40% Test: 29.50%\n",
            "Epoch: 87, Loss: 0.0496, Train: 90.00%, Valid: 27.20% Test: 29.80%\n",
            "Epoch: 88, Loss: 0.3838, Train: 90.00%, Valid: 27.60% Test: 30.20%\n",
            "Epoch: 89, Loss: 0.1702, Train: 90.00%, Valid: 27.40% Test: 30.00%\n",
            "Epoch: 90, Loss: 0.0062, Train: 90.00%, Valid: 28.40% Test: 30.80%\n",
            "Epoch: 91, Loss: 0.0644, Train: 90.00%, Valid: 28.60% Test: 31.70%\n",
            "Epoch: 92, Loss: 0.0621, Train: 90.00%, Valid: 29.00% Test: 31.40%\n",
            "Epoch: 93, Loss: 0.0910, Train: 90.00%, Valid: 27.40% Test: 31.60%\n",
            "Epoch: 94, Loss: 0.0043, Train: 90.00%, Valid: 29.00% Test: 31.40%\n",
            "Epoch: 95, Loss: 0.0076, Train: 90.00%, Valid: 28.80% Test: 31.30%\n",
            "Epoch: 96, Loss: 0.0055, Train: 90.00%, Valid: 29.40% Test: 32.20%\n",
            "Epoch: 97, Loss: 0.0759, Train: 90.00%, Valid: 29.40% Test: 32.80%\n",
            "Epoch: 98, Loss: 0.0442, Train: 90.00%, Valid: 29.60% Test: 32.90%\n",
            "Epoch: 99, Loss: 0.1244, Train: 90.00%, Valid: 30.00% Test: 32.90%\n",
            "Epoch: 100, Loss: 0.0006, Train: 90.71%, Valid: 30.40% Test: 32.90%\n",
            "Epoch: 101, Loss: 0.0005, Train: 90.71%, Valid: 30.40% Test: 32.60%\n",
            "Epoch: 102, Loss: 0.0018, Train: 90.00%, Valid: 30.00% Test: 33.00%\n",
            "Epoch: 103, Loss: 0.1929, Train: 90.00%, Valid: 31.00% Test: 33.10%\n",
            "Epoch: 104, Loss: 0.0003, Train: 90.00%, Valid: 30.20% Test: 33.10%\n",
            "Epoch: 105, Loss: 0.0026, Train: 90.00%, Valid: 30.80% Test: 34.10%\n",
            "Epoch: 106, Loss: 0.1281, Train: 90.00%, Valid: 31.00% Test: 33.90%\n",
            "Epoch: 107, Loss: 0.0253, Train: 90.00%, Valid: 31.00% Test: 34.10%\n",
            "Epoch: 108, Loss: 0.0929, Train: 90.00%, Valid: 32.20% Test: 33.70%\n",
            "Epoch: 109, Loss: 0.0610, Train: 90.00%, Valid: 32.20% Test: 33.30%\n",
            "Epoch: 110, Loss: 0.0241, Train: 90.00%, Valid: 32.60% Test: 33.50%\n",
            "Epoch: 111, Loss: 0.0062, Train: 90.00%, Valid: 31.80% Test: 33.30%\n",
            "Epoch: 112, Loss: 0.0061, Train: 90.00%, Valid: 31.20% Test: 33.20%\n",
            "Epoch: 113, Loss: 0.0175, Train: 90.00%, Valid: 32.80% Test: 33.20%\n",
            "Epoch: 114, Loss: 0.1005, Train: 90.00%, Valid: 33.00% Test: 33.40%\n",
            "Epoch: 115, Loss: 0.0008, Train: 90.00%, Valid: 32.40% Test: 33.90%\n",
            "Epoch: 116, Loss: 0.0875, Train: 90.00%, Valid: 32.40% Test: 34.00%\n",
            "Epoch: 117, Loss: 0.2046, Train: 90.00%, Valid: 31.80% Test: 33.10%\n",
            "Epoch: 118, Loss: 0.0066, Train: 90.00%, Valid: 31.20% Test: 32.70%\n",
            "Epoch: 119, Loss: 0.5358, Train: 90.00%, Valid: 31.80% Test: 32.40%\n",
            "Epoch: 120, Loss: 0.0001, Train: 90.00%, Valid: 32.80% Test: 33.20%\n",
            "Epoch: 121, Loss: 0.0026, Train: 90.00%, Valid: 32.60% Test: 32.60%\n",
            "Epoch: 122, Loss: 0.1308, Train: 90.00%, Valid: 32.60% Test: 32.30%\n",
            "Epoch: 123, Loss: 0.0017, Train: 90.00%, Valid: 31.80% Test: 33.60%\n",
            "Epoch: 124, Loss: 0.0024, Train: 90.00%, Valid: 32.60% Test: 32.90%\n",
            "Epoch: 125, Loss: 0.0150, Train: 90.00%, Valid: 32.00% Test: 32.40%\n",
            "Epoch: 126, Loss: 0.0003, Train: 90.00%, Valid: 32.00% Test: 32.80%\n",
            "Epoch: 127, Loss: 0.0284, Train: 90.00%, Valid: 32.80% Test: 32.90%\n",
            "Epoch: 128, Loss: 0.0007, Train: 90.00%, Valid: 32.20% Test: 32.20%\n",
            "Epoch: 129, Loss: 0.0004, Train: 89.29%, Valid: 32.00% Test: 31.70%\n",
            "Epoch: 130, Loss: 0.1100, Train: 89.29%, Valid: 32.00% Test: 31.90%\n",
            "Epoch: 131, Loss: 0.0190, Train: 89.29%, Valid: 31.60% Test: 31.70%\n",
            "Epoch: 132, Loss: 0.0959, Train: 90.00%, Valid: 31.60% Test: 31.60%\n",
            "Epoch: 133, Loss: 0.0126, Train: 89.29%, Valid: 31.80% Test: 30.70%\n",
            "Epoch: 134, Loss: 0.0179, Train: 89.29%, Valid: 31.60% Test: 30.80%\n",
            "Epoch: 135, Loss: 0.0061, Train: 89.29%, Valid: 30.80% Test: 30.90%\n",
            "Epoch: 136, Loss: 0.0011, Train: 90.00%, Valid: 31.20% Test: 30.40%\n",
            "Epoch: 137, Loss: 0.1093, Train: 90.00%, Valid: 31.20% Test: 30.20%\n",
            "Epoch: 138, Loss: 0.0435, Train: 90.00%, Valid: 31.20% Test: 29.90%\n",
            "Epoch: 139, Loss: 0.0172, Train: 90.00%, Valid: 30.80% Test: 30.20%\n",
            "Epoch: 140, Loss: 0.0226, Train: 90.00%, Valid: 30.40% Test: 30.30%\n",
            "Epoch: 141, Loss: 0.0184, Train: 90.00%, Valid: 30.20% Test: 29.70%\n",
            "Epoch: 142, Loss: 0.0174, Train: 90.00%, Valid: 29.60% Test: 30.30%\n",
            "Epoch: 143, Loss: 0.0301, Train: 90.00%, Valid: 30.00% Test: 31.00%\n",
            "Epoch: 144, Loss: 0.0708, Train: 90.00%, Valid: 30.80% Test: 31.10%\n",
            "Epoch: 145, Loss: 0.0000, Train: 90.00%, Valid: 29.20% Test: 31.60%\n",
            "Epoch: 146, Loss: 0.0316, Train: 90.00%, Valid: 29.80% Test: 31.70%\n",
            "Epoch: 147, Loss: 0.0206, Train: 90.00%, Valid: 31.00% Test: 31.60%\n",
            "Epoch: 148, Loss: 0.0304, Train: 89.29%, Valid: 31.80% Test: 30.70%\n",
            "Epoch: 149, Loss: 0.0096, Train: 89.29%, Valid: 31.00% Test: 30.40%\n",
            "Epoch: 150, Loss: 0.0029, Train: 89.29%, Valid: 30.80% Test: 30.40%\n",
            "Best model: Train: 90.00%, Valid: 33.00% Test: 33.40%\n"
          ]
        }
      ],
      "source": [
        "model = GNN(graph_train.num_node_features, args['hidden_size'], graph_train.num_node_labels, args).to(args['device'])\n",
        "optimizer = torch.optim.Adam(model.parameters(), lr=args['lr'])\n",
        "greedy_best_model, greedy_accs = train(graphs, [graph_train, graph_val, graph_test], args, model, optimizer, mode=\"community\")\n",
        "train_acc, val_acc, test_acc = test([graph_train, graph_val, graph_test], greedy_best_model)\n",
        "print('Best model:',\n",
        "      f'Train: {100 * train_acc:.2f}%, '\n",
        "      f'Valid: {100 * val_acc:.2f}% '\n",
        "      f'Test: {100 * test_acc:.2f}%')"
      ]
    },
    {
      "cell_type": "markdown",
      "metadata": {
        "id": "D5edKKT6Vk1C"
      },
      "source": [
        "## Full-Batch Training"
      ]
    },
    {
      "cell_type": "code",
      "execution_count": 39,
      "metadata": {
        "id": "N5tIXxC8ViFD",
        "colab": {
          "base_uri": "https://localhost:8080/"
        },
        "outputId": "f67da2df-b4dc-46a1-f5ab-6eaa2d438d11"
      },
      "outputs": [
        {
          "output_type": "stream",
          "name": "stdout",
          "text": [
            "Index fields: val_mask ignored.\n",
            "Index fields: train_mask ignored.\n",
            "Index fields: test_mask ignored.\n",
            "Epoch: 01, Loss: 1.9827, Train: 38.57%, Valid: 9.20% Test: 10.10%\n",
            "Epoch: 02, Loss: 1.1382, Train: 87.86%, Valid: 30.40% Test: 32.70%\n",
            "Epoch: 03, Loss: 0.5665, Train: 99.29%, Valid: 50.00% Test: 51.40%\n",
            "Epoch: 04, Loss: 0.3179, Train: 99.29%, Valid: 60.60% Test: 58.90%\n",
            "Epoch: 05, Loss: 0.1724, Train: 100.00%, Valid: 64.20% Test: 64.20%\n",
            "Epoch: 06, Loss: 0.0825, Train: 100.00%, Valid: 66.80% Test: 66.30%\n",
            "Epoch: 07, Loss: 0.0477, Train: 100.00%, Valid: 68.20% Test: 68.10%\n",
            "Epoch: 08, Loss: 0.0259, Train: 100.00%, Valid: 69.60% Test: 69.70%\n",
            "Epoch: 09, Loss: 0.0156, Train: 100.00%, Valid: 69.60% Test: 70.40%\n",
            "Epoch: 10, Loss: 0.0088, Train: 100.00%, Valid: 70.60% Test: 71.10%\n",
            "Epoch: 11, Loss: 0.0039, Train: 100.00%, Valid: 71.60% Test: 71.20%\n",
            "Epoch: 12, Loss: 0.0060, Train: 100.00%, Valid: 71.60% Test: 71.40%\n",
            "Epoch: 13, Loss: 0.0031, Train: 100.00%, Valid: 71.60% Test: 71.60%\n",
            "Epoch: 14, Loss: 0.0007, Train: 100.00%, Valid: 71.60% Test: 71.50%\n",
            "Epoch: 15, Loss: 0.0024, Train: 100.00%, Valid: 71.40% Test: 71.70%\n",
            "Epoch: 16, Loss: 0.0014, Train: 100.00%, Valid: 71.60% Test: 71.90%\n",
            "Epoch: 17, Loss: 0.0019, Train: 100.00%, Valid: 72.40% Test: 72.00%\n",
            "Epoch: 18, Loss: 0.0003, Train: 100.00%, Valid: 72.60% Test: 72.30%\n",
            "Epoch: 19, Loss: 0.0015, Train: 100.00%, Valid: 72.60% Test: 72.50%\n",
            "Epoch: 20, Loss: 0.0002, Train: 100.00%, Valid: 73.00% Test: 72.50%\n",
            "Epoch: 21, Loss: 0.0004, Train: 100.00%, Valid: 72.60% Test: 72.50%\n",
            "Epoch: 22, Loss: 0.0005, Train: 100.00%, Valid: 72.40% Test: 73.00%\n",
            "Epoch: 23, Loss: 0.0002, Train: 100.00%, Valid: 72.20% Test: 72.90%\n",
            "Epoch: 24, Loss: 0.0026, Train: 100.00%, Valid: 72.40% Test: 72.60%\n",
            "Epoch: 25, Loss: 0.0057, Train: 100.00%, Valid: 73.00% Test: 73.10%\n",
            "Epoch: 26, Loss: 0.0021, Train: 100.00%, Valid: 73.00% Test: 73.00%\n",
            "Epoch: 27, Loss: 0.0002, Train: 100.00%, Valid: 73.00% Test: 73.00%\n",
            "Epoch: 28, Loss: 0.0005, Train: 100.00%, Valid: 73.20% Test: 73.10%\n",
            "Epoch: 29, Loss: 0.0001, Train: 100.00%, Valid: 73.20% Test: 73.10%\n",
            "Epoch: 30, Loss: 0.0002, Train: 100.00%, Valid: 73.40% Test: 73.30%\n",
            "Epoch: 31, Loss: 0.0001, Train: 100.00%, Valid: 74.00% Test: 73.70%\n",
            "Epoch: 32, Loss: 0.0000, Train: 100.00%, Valid: 74.00% Test: 73.80%\n",
            "Epoch: 33, Loss: 0.0000, Train: 100.00%, Valid: 74.00% Test: 73.90%\n",
            "Epoch: 34, Loss: 0.0002, Train: 100.00%, Valid: 74.00% Test: 74.00%\n",
            "Epoch: 35, Loss: 0.0001, Train: 100.00%, Valid: 74.20% Test: 74.10%\n",
            "Epoch: 36, Loss: 0.0001, Train: 100.00%, Valid: 74.20% Test: 74.00%\n",
            "Epoch: 37, Loss: 0.0000, Train: 100.00%, Valid: 73.80% Test: 74.00%\n",
            "Epoch: 38, Loss: 0.0001, Train: 100.00%, Valid: 73.80% Test: 73.90%\n",
            "Epoch: 39, Loss: 0.0000, Train: 100.00%, Valid: 73.80% Test: 74.00%\n",
            "Epoch: 40, Loss: 0.0006, Train: 100.00%, Valid: 73.60% Test: 74.10%\n",
            "Epoch: 41, Loss: 0.0000, Train: 100.00%, Valid: 73.60% Test: 74.00%\n",
            "Epoch: 42, Loss: 0.0000, Train: 100.00%, Valid: 73.60% Test: 74.00%\n",
            "Epoch: 43, Loss: 0.0000, Train: 100.00%, Valid: 73.60% Test: 74.00%\n",
            "Epoch: 44, Loss: 0.0000, Train: 100.00%, Valid: 73.40% Test: 74.00%\n",
            "Epoch: 45, Loss: 0.0001, Train: 100.00%, Valid: 73.40% Test: 74.00%\n",
            "Epoch: 46, Loss: 0.0001, Train: 100.00%, Valid: 73.40% Test: 74.00%\n",
            "Epoch: 47, Loss: 0.0001, Train: 100.00%, Valid: 73.00% Test: 74.00%\n",
            "Epoch: 48, Loss: 0.0000, Train: 100.00%, Valid: 73.00% Test: 74.00%\n",
            "Epoch: 49, Loss: 0.0002, Train: 100.00%, Valid: 73.00% Test: 74.00%\n",
            "Epoch: 50, Loss: 0.0001, Train: 100.00%, Valid: 73.00% Test: 74.00%\n",
            "Epoch: 51, Loss: 0.0000, Train: 100.00%, Valid: 72.80% Test: 74.10%\n",
            "Epoch: 52, Loss: 0.0001, Train: 100.00%, Valid: 72.80% Test: 74.10%\n",
            "Epoch: 53, Loss: 0.0005, Train: 100.00%, Valid: 72.80% Test: 74.00%\n",
            "Epoch: 54, Loss: 0.0000, Train: 100.00%, Valid: 72.80% Test: 74.00%\n",
            "Epoch: 55, Loss: 0.0000, Train: 100.00%, Valid: 72.80% Test: 73.90%\n",
            "Epoch: 56, Loss: 0.0001, Train: 100.00%, Valid: 73.20% Test: 73.90%\n",
            "Epoch: 57, Loss: 0.0001, Train: 100.00%, Valid: 73.20% Test: 73.80%\n",
            "Epoch: 58, Loss: 0.0000, Train: 100.00%, Valid: 73.20% Test: 73.80%\n",
            "Epoch: 59, Loss: 0.0003, Train: 100.00%, Valid: 73.20% Test: 73.80%\n",
            "Epoch: 60, Loss: 0.0000, Train: 100.00%, Valid: 73.20% Test: 73.80%\n",
            "Epoch: 61, Loss: 0.0003, Train: 100.00%, Valid: 73.60% Test: 73.80%\n",
            "Epoch: 62, Loss: 0.0003, Train: 100.00%, Valid: 73.60% Test: 73.80%\n",
            "Epoch: 63, Loss: 0.0001, Train: 100.00%, Valid: 73.60% Test: 73.80%\n",
            "Epoch: 64, Loss: 0.0003, Train: 100.00%, Valid: 73.60% Test: 73.80%\n",
            "Epoch: 65, Loss: 0.0000, Train: 100.00%, Valid: 73.60% Test: 73.80%\n",
            "Epoch: 66, Loss: 0.0001, Train: 100.00%, Valid: 73.60% Test: 73.80%\n",
            "Epoch: 67, Loss: 0.0000, Train: 100.00%, Valid: 73.80% Test: 73.80%\n",
            "Epoch: 68, Loss: 0.0000, Train: 100.00%, Valid: 73.80% Test: 73.80%\n",
            "Epoch: 69, Loss: 0.0003, Train: 100.00%, Valid: 73.80% Test: 73.80%\n",
            "Epoch: 70, Loss: 0.0000, Train: 100.00%, Valid: 73.80% Test: 73.90%\n",
            "Epoch: 71, Loss: 0.0000, Train: 100.00%, Valid: 73.80% Test: 73.90%\n",
            "Epoch: 72, Loss: 0.0000, Train: 100.00%, Valid: 73.80% Test: 74.00%\n",
            "Epoch: 73, Loss: 0.0001, Train: 100.00%, Valid: 73.80% Test: 74.00%\n",
            "Epoch: 74, Loss: 0.0001, Train: 100.00%, Valid: 73.80% Test: 74.00%\n",
            "Epoch: 75, Loss: 0.0000, Train: 100.00%, Valid: 73.80% Test: 74.00%\n",
            "Epoch: 76, Loss: 0.0000, Train: 100.00%, Valid: 73.80% Test: 74.00%\n",
            "Epoch: 77, Loss: 0.0000, Train: 100.00%, Valid: 73.80% Test: 74.00%\n",
            "Epoch: 78, Loss: 0.0004, Train: 100.00%, Valid: 73.80% Test: 74.00%\n",
            "Epoch: 79, Loss: 0.0001, Train: 100.00%, Valid: 73.80% Test: 74.00%\n",
            "Epoch: 80, Loss: 0.0000, Train: 100.00%, Valid: 73.80% Test: 74.00%\n",
            "Epoch: 81, Loss: 0.0000, Train: 100.00%, Valid: 73.80% Test: 74.00%\n",
            "Epoch: 82, Loss: 0.0000, Train: 100.00%, Valid: 73.80% Test: 74.00%\n",
            "Epoch: 83, Loss: 0.0000, Train: 100.00%, Valid: 73.80% Test: 74.00%\n",
            "Epoch: 84, Loss: 0.0000, Train: 100.00%, Valid: 73.80% Test: 74.00%\n",
            "Epoch: 85, Loss: 0.0000, Train: 100.00%, Valid: 73.80% Test: 73.90%\n",
            "Epoch: 86, Loss: 0.0001, Train: 100.00%, Valid: 73.80% Test: 73.90%\n",
            "Epoch: 87, Loss: 0.0003, Train: 100.00%, Valid: 73.80% Test: 73.90%\n",
            "Epoch: 88, Loss: 0.0000, Train: 100.00%, Valid: 73.80% Test: 73.90%\n",
            "Epoch: 89, Loss: 0.0000, Train: 100.00%, Valid: 73.80% Test: 73.90%\n",
            "Epoch: 90, Loss: 0.0000, Train: 100.00%, Valid: 73.80% Test: 74.00%\n",
            "Epoch: 91, Loss: 0.0000, Train: 100.00%, Valid: 73.80% Test: 74.00%\n",
            "Epoch: 92, Loss: 0.0001, Train: 100.00%, Valid: 73.80% Test: 74.00%\n",
            "Epoch: 93, Loss: 0.0000, Train: 100.00%, Valid: 73.80% Test: 74.00%\n",
            "Epoch: 94, Loss: 0.0005, Train: 100.00%, Valid: 73.80% Test: 74.00%\n",
            "Epoch: 95, Loss: 0.0001, Train: 100.00%, Valid: 73.80% Test: 73.80%\n",
            "Epoch: 96, Loss: 0.0001, Train: 100.00%, Valid: 73.80% Test: 73.90%\n",
            "Epoch: 97, Loss: 0.0002, Train: 100.00%, Valid: 73.80% Test: 73.90%\n",
            "Epoch: 98, Loss: 0.0000, Train: 100.00%, Valid: 73.80% Test: 73.80%\n",
            "Epoch: 99, Loss: 0.0001, Train: 100.00%, Valid: 73.80% Test: 73.80%\n",
            "Epoch: 100, Loss: 0.0000, Train: 100.00%, Valid: 73.80% Test: 73.90%\n",
            "Epoch: 101, Loss: 0.0001, Train: 100.00%, Valid: 73.80% Test: 73.90%\n",
            "Epoch: 102, Loss: 0.0000, Train: 100.00%, Valid: 73.80% Test: 74.00%\n",
            "Epoch: 103, Loss: 0.0001, Train: 100.00%, Valid: 73.80% Test: 74.00%\n",
            "Epoch: 104, Loss: 0.0002, Train: 100.00%, Valid: 73.80% Test: 74.00%\n",
            "Epoch: 105, Loss: 0.0000, Train: 100.00%, Valid: 73.80% Test: 73.90%\n",
            "Epoch: 106, Loss: 0.0000, Train: 100.00%, Valid: 73.80% Test: 73.90%\n",
            "Epoch: 107, Loss: 0.0000, Train: 100.00%, Valid: 73.80% Test: 73.90%\n",
            "Epoch: 108, Loss: 0.0002, Train: 100.00%, Valid: 73.80% Test: 74.00%\n",
            "Epoch: 109, Loss: 0.0001, Train: 100.00%, Valid: 73.80% Test: 74.00%\n",
            "Epoch: 110, Loss: 0.0000, Train: 100.00%, Valid: 73.80% Test: 74.00%\n",
            "Epoch: 111, Loss: 0.0000, Train: 100.00%, Valid: 73.80% Test: 74.00%\n",
            "Epoch: 112, Loss: 0.0001, Train: 100.00%, Valid: 73.80% Test: 74.00%\n",
            "Epoch: 113, Loss: 0.0000, Train: 100.00%, Valid: 73.80% Test: 73.90%\n",
            "Epoch: 114, Loss: 0.0001, Train: 100.00%, Valid: 73.80% Test: 73.90%\n",
            "Epoch: 115, Loss: 0.0001, Train: 100.00%, Valid: 73.80% Test: 73.90%\n",
            "Epoch: 116, Loss: 0.0000, Train: 100.00%, Valid: 73.80% Test: 73.90%\n",
            "Epoch: 117, Loss: 0.0000, Train: 100.00%, Valid: 73.80% Test: 73.90%\n",
            "Epoch: 118, Loss: 0.0000, Train: 100.00%, Valid: 73.80% Test: 73.90%\n",
            "Epoch: 119, Loss: 0.0000, Train: 100.00%, Valid: 73.80% Test: 73.90%\n",
            "Epoch: 120, Loss: 0.0000, Train: 100.00%, Valid: 73.80% Test: 73.90%\n",
            "Epoch: 121, Loss: 0.0000, Train: 100.00%, Valid: 73.80% Test: 73.90%\n",
            "Epoch: 122, Loss: 0.0000, Train: 100.00%, Valid: 73.80% Test: 73.90%\n",
            "Epoch: 123, Loss: 0.0000, Train: 100.00%, Valid: 73.80% Test: 73.90%\n",
            "Epoch: 124, Loss: 0.0001, Train: 100.00%, Valid: 73.60% Test: 73.90%\n",
            "Epoch: 125, Loss: 0.0001, Train: 100.00%, Valid: 73.60% Test: 73.90%\n",
            "Epoch: 126, Loss: 0.0000, Train: 100.00%, Valid: 73.60% Test: 73.90%\n",
            "Epoch: 127, Loss: 0.0000, Train: 100.00%, Valid: 73.60% Test: 73.90%\n",
            "Epoch: 128, Loss: 0.0000, Train: 100.00%, Valid: 73.60% Test: 73.90%\n",
            "Epoch: 129, Loss: 0.0001, Train: 100.00%, Valid: 73.60% Test: 73.90%\n",
            "Epoch: 130, Loss: 0.0000, Train: 100.00%, Valid: 73.60% Test: 73.90%\n",
            "Epoch: 131, Loss: 0.0005, Train: 100.00%, Valid: 73.60% Test: 73.90%\n",
            "Epoch: 132, Loss: 0.0001, Train: 100.00%, Valid: 73.60% Test: 73.80%\n",
            "Epoch: 133, Loss: 0.0000, Train: 100.00%, Valid: 74.00% Test: 73.70%\n",
            "Epoch: 134, Loss: 0.0000, Train: 100.00%, Valid: 74.00% Test: 73.70%\n",
            "Epoch: 135, Loss: 0.0000, Train: 100.00%, Valid: 74.00% Test: 73.70%\n",
            "Epoch: 136, Loss: 0.0001, Train: 100.00%, Valid: 74.00% Test: 73.70%\n",
            "Epoch: 137, Loss: 0.0000, Train: 100.00%, Valid: 74.00% Test: 73.70%\n",
            "Epoch: 138, Loss: 0.0002, Train: 100.00%, Valid: 74.00% Test: 73.70%\n",
            "Epoch: 139, Loss: 0.0000, Train: 100.00%, Valid: 74.00% Test: 73.70%\n",
            "Epoch: 140, Loss: 0.0000, Train: 100.00%, Valid: 74.00% Test: 73.80%\n",
            "Epoch: 141, Loss: 0.0000, Train: 100.00%, Valid: 74.00% Test: 73.80%\n",
            "Epoch: 142, Loss: 0.0000, Train: 100.00%, Valid: 74.00% Test: 73.80%\n",
            "Epoch: 143, Loss: 0.0000, Train: 100.00%, Valid: 74.00% Test: 73.80%\n",
            "Epoch: 144, Loss: 0.0003, Train: 100.00%, Valid: 74.00% Test: 73.80%\n",
            "Epoch: 145, Loss: 0.0000, Train: 100.00%, Valid: 74.00% Test: 73.80%\n",
            "Epoch: 146, Loss: 0.0000, Train: 100.00%, Valid: 74.00% Test: 73.90%\n",
            "Epoch: 147, Loss: 0.0000, Train: 100.00%, Valid: 74.00% Test: 73.90%\n",
            "Epoch: 148, Loss: 0.0000, Train: 100.00%, Valid: 74.00% Test: 73.90%\n",
            "Epoch: 149, Loss: 0.0001, Train: 100.00%, Valid: 74.00% Test: 74.00%\n",
            "Epoch: 150, Loss: 0.0000, Train: 100.00%, Valid: 74.00% Test: 74.00%\n",
            "Best model: Train: 100.00%, Valid: 74.20% Test: 74.10%\n"
          ]
        }
      ],
      "source": [
        "graphs_train, graphs_val, graphs_test = \\\n",
        "    GraphDataset.pyg_to_graphs(pyg_dataset, verbose=True, fixed_split=True)\n",
        "\n",
        "graph_train = graphs_train[0]\n",
        "graph_val = graphs_val[0]\n",
        "graph_test = graphs_test[0]\n",
        "\n",
        "model = GNN(graph_train.num_node_features, args['hidden_size'], graph_train.num_node_labels, args).to(args['device'])\n",
        "optimizer = torch.optim.Adam(model.parameters(), lr=args['lr'])\n",
        "graphs = [graph_train, graph_val, graph_test]\n",
        "all_best_model, all_accs = train(graphs, graphs, args, model, optimizer, mode=\"all\")\n",
        "train_acc, val_acc, test_acc = test([graph_train, graph_val, graph_test], all_best_model)\n",
        "print('Best model:',\n",
        "      f'Train: {100 * train_acc:.2f}%, '\n",
        "      f'Valid: {100 * val_acc:.2f}% '\n",
        "      f'Test: {100 * test_acc:.2f}%')"
      ]
    },
    {
      "cell_type": "markdown",
      "metadata": {
        "id": "6RpuETv7Vpx0"
      },
      "source": [
        "## Visualization"
      ]
    },
    {
      "cell_type": "code",
      "execution_count": 40,
      "metadata": {
        "id": "PMK33kY5VmF5",
        "colab": {
          "base_uri": "https://localhost:8080/",
          "height": 641
        },
        "outputId": "66d79194-4a1e-4719-96eb-0c4a45780fb9"
      },
      "outputs": [
        {
          "output_type": "display_data",
          "data": {
            "text/plain": [
              "<Figure size 900x700 with 1 Axes>"
            ],
            "image/png": "[encoded data removed]"
          },
          "metadata": {}
        }
      ],
      "source": [
        "import numpy as np\n",
        "from matplotlib import pyplot as plt\n",
        "\n",
        "louvain_results = np.array(louvain_accs)\n",
        "bisection_results = np.array(bisection_accs)\n",
        "greedy_results = np.array(greedy_accs)\n",
        "all_results = np.array(all_accs)\n",
        "\n",
        "x = np.arange(1, 151)\n",
        "\n",
        "plt.figure(figsize=(9, 7))\n",
        "\n",
        "plt.plot(x, louvain_results[:, 1], label=\"Louvain Validation\")\n",
        "plt.plot(x, louvain_results[:, 2], label=\"Louvain Test\")\n",
        "plt.plot(x, bisection_results[:, 1], label=\"Bisection Validation\")\n",
        "plt.plot(x, bisection_results[:, 2], label=\"Bisection Test\")\n",
        "plt.plot(x, greedy_results[:, 1], label=\"Greedy Validation\")\n",
        "plt.plot(x, greedy_results[:, 2], label=\"Greedy Test\")\n",
        "plt.plot(x, all_results[:, 1], label=\"All Validation\")\n",
        "plt.plot(x, all_results[:, 2], label=\"All Test\")\n",
        "plt.title('Model Accuracy')\n",
        "plt.ylabel('Accuracy')\n",
        "plt.xlabel('Epoch')\n",
        "plt.legend()\n",
        "plt.show()"
      ]
    }
  ],
  "metadata": {
    "accelerator": "GPU",
    "colab": {
      "machine_shape": "hm",
      "provenance": []
    },
    "kernelspec": {
      "display_name": "PyGtut",
      "language": "python",
      "name": "pygtut"
    },
    "language_info": {
      "codemirror_mode": {
        "name": "ipython",
        "version": 3
      },
      "file_extension": ".py",
      "mimetype": "text/x-python",
      "name": "python",
      "nbconvert_exporter": "python",
      "pygments_lexer": "ipython3",
      "version": "3.10.8"
    }
  },
  "nbformat": 4,
  "nbformat_minor": 0
}